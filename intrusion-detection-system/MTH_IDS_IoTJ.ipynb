{
 "cells": [
  {
   "cell_type": "markdown",
   "metadata": {},
   "source": [
    "# MTH-IDS: A Multi-Tiered Hybrid Intrusion Detection System for Internet of Vehicles\n",
    "This is the code for the paper entitled \"[**MTH-IDS: A Multi-Tiered Hybrid Intrusion Detection System for Internet of Vehicles**](https://arxiv.org/pdf/2105.13289.pdf)\" accepted in IEEE Internet of Things Journal.  \n",
    "Authors: Li Yang (liyanghart@gmail.com), Abdallah Moubayed, and Abdallah Shami  \n",
    "Organization: The Optimized Computing and Communications (OC2) Lab, ECE Department, Western University\n",
    "\n",
    "If you find this repository useful in your research, please cite:  \n",
    "L. Yang, A. Moubayed, and A. Shami, “MTH-IDS: A Multi-Tiered Hybrid Intrusion Detection System for Internet of Vehicles,” IEEE Internet of Things Journal, vol. 9, no. 1, pp. 616-632, Jan.1, 2022."
   ]
  },
  {
   "cell_type": "markdown",
   "metadata": {},
   "source": [
    "## Import libraries"
   ]
  },
  {
   "cell_type": "code",
   "metadata": {
    "ExecuteTime": {
     "end_time": "2024-08-26T09:25:15.617402Z",
     "start_time": "2024-08-26T09:25:15.615544Z"
    }
   },
   "source": [
    "import warnings\n",
    "warnings.filterwarnings(\"ignore\")"
   ],
   "outputs": [],
   "execution_count": 197
  },
  {
   "cell_type": "code",
   "metadata": {
    "ExecuteTime": {
     "end_time": "2024-08-26T09:25:16.350325Z",
     "start_time": "2024-08-26T09:25:16.348037Z"
    }
   },
   "source": [
    "import numpy as np\n",
    "import pandas as pd\n",
    "import seaborn as sns\n",
    "import matplotlib.pyplot as plt\n",
    "from sklearn.preprocessing import LabelEncoder\n",
    "from sklearn.model_selection import train_test_split\n",
    "from sklearn.metrics import classification_report,confusion_matrix,accuracy_score,precision_recall_fscore_support\n",
    "from sklearn.metrics import f1_score,roc_auc_score\n",
    "from sklearn.ensemble import RandomForestClassifier,ExtraTreesClassifier\n",
    "from sklearn.tree import DecisionTreeClassifier\n",
    "import xgboost as xgb\n",
    "from xgboost import plot_importance"
   ],
   "outputs": [],
   "execution_count": 198
  },
  {
   "cell_type": "markdown",
   "metadata": {},
   "source": [
    "## Read the sampled CICIDS2017 dataset\n",
    "The CICIDS2017 dataset is publicly available at: https://www.unb.ca/cic/datasets/ids-2017.html  \n",
    "Due to the large size of this dataset, the sampled subsets of CICIDS2017 is used. The subsets are in the \"data\" folder.  \n",
    "If you want to use this code on other datasets (e.g., CAN-intrusion dataset), just change the dataset name and follow the same steps. The models in this code are generic models that can be used in any intrusion detection/network traffic datasets."
   ]
  },
  {
   "cell_type": "code",
   "metadata": {
    "ExecuteTime": {
     "end_time": "2024-08-26T09:25:57.691271Z",
     "start_time": "2024-08-26T09:25:16.401324Z"
    }
   },
   "source": [
    "# 데이터셋 읽기\n",
    "df = pd.read_csv('./data/CICIDS2017.csv')\n",
    "\n",
    "# 'Label' 열의 이름에서 공백 제거\n",
    "df.columns = df.columns.str.strip()\n",
    "\n",
    "# 모든 열에 대해 공백 제거 적용\n",
    "df = df.applymap(lambda x: x.strip() if isinstance(x, str) else x)\n",
    "\n",
    "# 'Label' 열을 기준으로 값 계산\n",
    "df['Label'].value_counts()"
   ],
   "outputs": [
    {
     "data": {
      "text/plain": [
       "Label\n",
       "BENIGN                        2273097\n",
       "DoS Hulk                       231073\n",
       "PortScan                       158930\n",
       "DDoS                           128027\n",
       "DoS GoldenEye                   10293\n",
       "FTP-Patator                      7938\n",
       "SSH-Patator                      5897\n",
       "DoS slowloris                    5796\n",
       "DoS Slowhttptest                 5499\n",
       "Bot                              1966\n",
       "Web Attack � Brute Force         1507\n",
       "Web Attack � XSS                  652\n",
       "Infiltration                       36\n",
       "Web Attack � Sql Injection         21\n",
       "Heartbleed                         11\n",
       "Name: count, dtype: int64"
      ]
     },
     "execution_count": 199,
     "metadata": {},
     "output_type": "execute_result"
    }
   ],
   "execution_count": 199
  },
  {
   "cell_type": "code",
   "metadata": {
    "ExecuteTime": {
     "end_time": "2024-08-26T09:25:57.936154Z",
     "start_time": "2024-08-26T09:25:57.692761Z"
    }
   },
   "source": [
    "df"
   ],
   "outputs": [
    {
     "data": {
      "text/plain": [
       "         Destination Port  Flow Duration  Total Fwd Packets  \\\n",
       "0                      22            166                  1   \n",
       "1                   60148             83                  1   \n",
       "2                     123          99947                  1   \n",
       "3                     123          37017                  1   \n",
       "4                       0      111161336                147   \n",
       "...                   ...            ...                ...   \n",
       "2830738             55641             49                  1   \n",
       "2830739             45337            217                  2   \n",
       "2830740                22        1387547                 41   \n",
       "2830741                22            207                  1   \n",
       "2830742             60146             50                  1   \n",
       "\n",
       "         Total Backward Packets  Total Length of Fwd Packets  \\\n",
       "0                             1                            0   \n",
       "1                             2                            0   \n",
       "2                             1                           48   \n",
       "3                             1                           48   \n",
       "4                             0                            0   \n",
       "...                         ...                          ...   \n",
       "2830738                       3                            6   \n",
       "2830739                       1                           31   \n",
       "2830740                      46                         2728   \n",
       "2830741                       1                            0   \n",
       "2830742                       2                            0   \n",
       "\n",
       "         Total Length of Bwd Packets  Fwd Packet Length Max  \\\n",
       "0                                  0                      0   \n",
       "1                                  0                      0   \n",
       "2                                 48                     48   \n",
       "3                                 48                     48   \n",
       "4                                  0                      0   \n",
       "...                              ...                    ...   \n",
       "2830738                           18                      6   \n",
       "2830739                            6                     31   \n",
       "2830740                         6634                    456   \n",
       "2830741                            0                      0   \n",
       "2830742                            0                      0   \n",
       "\n",
       "         Fwd Packet Length Min  Fwd Packet Length Mean  Fwd Packet Length Std  \\\n",
       "0                            0                0.000000               0.000000   \n",
       "1                            0                0.000000               0.000000   \n",
       "2                           48               48.000000               0.000000   \n",
       "3                           48               48.000000               0.000000   \n",
       "4                            0                0.000000               0.000000   \n",
       "...                        ...                     ...                    ...   \n",
       "2830738                      6                6.000000               0.000000   \n",
       "2830739                      0               15.500000              21.920310   \n",
       "2830740                      0               66.536585             110.129945   \n",
       "2830741                      0                0.000000               0.000000   \n",
       "2830742                      0                0.000000               0.000000   \n",
       "\n",
       "         ...  min_seg_size_forward  Active Mean   Active Std  Active Max  \\\n",
       "0        ...                    32        0.000        0.000           0   \n",
       "1        ...                    32        0.000        0.000           0   \n",
       "2        ...                    40        0.000        0.000           0   \n",
       "3        ...                    32        0.000        0.000           0   \n",
       "4        ...                     0  1753752.625  2123197.578     4822992   \n",
       "...      ...                   ...          ...          ...         ...   \n",
       "2830738  ...                    20        0.000        0.000           0   \n",
       "2830739  ...                    32        0.000        0.000           0   \n",
       "2830740  ...                    32        0.000        0.000           0   \n",
       "2830741  ...                    32        0.000        0.000           0   \n",
       "2830742  ...                    32        0.000        0.000           0   \n",
       "\n",
       "         Active Min  Idle Mean     Idle Std  Idle Max  Idle Min   Label  \n",
       "0                 0        0.0        0.000         0         0  BENIGN  \n",
       "1                 0        0.0        0.000         0         0  BENIGN  \n",
       "2                 0        0.0        0.000         0         0  BENIGN  \n",
       "3                 0        0.0        0.000         0         0  BENIGN  \n",
       "4                95  9463032.7  2657727.996  13600000   5700287  BENIGN  \n",
       "...             ...        ...          ...       ...       ...     ...  \n",
       "2830738           0        0.0        0.000         0         0  BENIGN  \n",
       "2830739           0        0.0        0.000         0         0  BENIGN  \n",
       "2830740           0        0.0        0.000         0         0  BENIGN  \n",
       "2830741           0        0.0        0.000         0         0  BENIGN  \n",
       "2830742           0        0.0        0.000         0         0  BENIGN  \n",
       "\n",
       "[2830743 rows x 79 columns]"
      ],
      "text/html": [
       "<div>\n",
       "<style scoped>\n",
       "    .dataframe tbody tr th:only-of-type {\n",
       "        vertical-align: middle;\n",
       "    }\n",
       "\n",
       "    .dataframe tbody tr th {\n",
       "        vertical-align: top;\n",
       "    }\n",
       "\n",
       "    .dataframe thead th {\n",
       "        text-align: right;\n",
       "    }\n",
       "</style>\n",
       "<table border=\"1\" class=\"dataframe\">\n",
       "  <thead>\n",
       "    <tr style=\"text-align: right;\">\n",
       "      <th></th>\n",
       "      <th>Destination Port</th>\n",
       "      <th>Flow Duration</th>\n",
       "      <th>Total Fwd Packets</th>\n",
       "      <th>Total Backward Packets</th>\n",
       "      <th>Total Length of Fwd Packets</th>\n",
       "      <th>Total Length of Bwd Packets</th>\n",
       "      <th>Fwd Packet Length Max</th>\n",
       "      <th>Fwd Packet Length Min</th>\n",
       "      <th>Fwd Packet Length Mean</th>\n",
       "      <th>Fwd Packet Length Std</th>\n",
       "      <th>...</th>\n",
       "      <th>min_seg_size_forward</th>\n",
       "      <th>Active Mean</th>\n",
       "      <th>Active Std</th>\n",
       "      <th>Active Max</th>\n",
       "      <th>Active Min</th>\n",
       "      <th>Idle Mean</th>\n",
       "      <th>Idle Std</th>\n",
       "      <th>Idle Max</th>\n",
       "      <th>Idle Min</th>\n",
       "      <th>Label</th>\n",
       "    </tr>\n",
       "  </thead>\n",
       "  <tbody>\n",
       "    <tr>\n",
       "      <th>0</th>\n",
       "      <td>22</td>\n",
       "      <td>166</td>\n",
       "      <td>1</td>\n",
       "      <td>1</td>\n",
       "      <td>0</td>\n",
       "      <td>0</td>\n",
       "      <td>0</td>\n",
       "      <td>0</td>\n",
       "      <td>0.000000</td>\n",
       "      <td>0.000000</td>\n",
       "      <td>...</td>\n",
       "      <td>32</td>\n",
       "      <td>0.000</td>\n",
       "      <td>0.000</td>\n",
       "      <td>0</td>\n",
       "      <td>0</td>\n",
       "      <td>0.0</td>\n",
       "      <td>0.000</td>\n",
       "      <td>0</td>\n",
       "      <td>0</td>\n",
       "      <td>BENIGN</td>\n",
       "    </tr>\n",
       "    <tr>\n",
       "      <th>1</th>\n",
       "      <td>60148</td>\n",
       "      <td>83</td>\n",
       "      <td>1</td>\n",
       "      <td>2</td>\n",
       "      <td>0</td>\n",
       "      <td>0</td>\n",
       "      <td>0</td>\n",
       "      <td>0</td>\n",
       "      <td>0.000000</td>\n",
       "      <td>0.000000</td>\n",
       "      <td>...</td>\n",
       "      <td>32</td>\n",
       "      <td>0.000</td>\n",
       "      <td>0.000</td>\n",
       "      <td>0</td>\n",
       "      <td>0</td>\n",
       "      <td>0.0</td>\n",
       "      <td>0.000</td>\n",
       "      <td>0</td>\n",
       "      <td>0</td>\n",
       "      <td>BENIGN</td>\n",
       "    </tr>\n",
       "    <tr>\n",
       "      <th>2</th>\n",
       "      <td>123</td>\n",
       "      <td>99947</td>\n",
       "      <td>1</td>\n",
       "      <td>1</td>\n",
       "      <td>48</td>\n",
       "      <td>48</td>\n",
       "      <td>48</td>\n",
       "      <td>48</td>\n",
       "      <td>48.000000</td>\n",
       "      <td>0.000000</td>\n",
       "      <td>...</td>\n",
       "      <td>40</td>\n",
       "      <td>0.000</td>\n",
       "      <td>0.000</td>\n",
       "      <td>0</td>\n",
       "      <td>0</td>\n",
       "      <td>0.0</td>\n",
       "      <td>0.000</td>\n",
       "      <td>0</td>\n",
       "      <td>0</td>\n",
       "      <td>BENIGN</td>\n",
       "    </tr>\n",
       "    <tr>\n",
       "      <th>3</th>\n",
       "      <td>123</td>\n",
       "      <td>37017</td>\n",
       "      <td>1</td>\n",
       "      <td>1</td>\n",
       "      <td>48</td>\n",
       "      <td>48</td>\n",
       "      <td>48</td>\n",
       "      <td>48</td>\n",
       "      <td>48.000000</td>\n",
       "      <td>0.000000</td>\n",
       "      <td>...</td>\n",
       "      <td>32</td>\n",
       "      <td>0.000</td>\n",
       "      <td>0.000</td>\n",
       "      <td>0</td>\n",
       "      <td>0</td>\n",
       "      <td>0.0</td>\n",
       "      <td>0.000</td>\n",
       "      <td>0</td>\n",
       "      <td>0</td>\n",
       "      <td>BENIGN</td>\n",
       "    </tr>\n",
       "    <tr>\n",
       "      <th>4</th>\n",
       "      <td>0</td>\n",
       "      <td>111161336</td>\n",
       "      <td>147</td>\n",
       "      <td>0</td>\n",
       "      <td>0</td>\n",
       "      <td>0</td>\n",
       "      <td>0</td>\n",
       "      <td>0</td>\n",
       "      <td>0.000000</td>\n",
       "      <td>0.000000</td>\n",
       "      <td>...</td>\n",
       "      <td>0</td>\n",
       "      <td>1753752.625</td>\n",
       "      <td>2123197.578</td>\n",
       "      <td>4822992</td>\n",
       "      <td>95</td>\n",
       "      <td>9463032.7</td>\n",
       "      <td>2657727.996</td>\n",
       "      <td>13600000</td>\n",
       "      <td>5700287</td>\n",
       "      <td>BENIGN</td>\n",
       "    </tr>\n",
       "    <tr>\n",
       "      <th>...</th>\n",
       "      <td>...</td>\n",
       "      <td>...</td>\n",
       "      <td>...</td>\n",
       "      <td>...</td>\n",
       "      <td>...</td>\n",
       "      <td>...</td>\n",
       "      <td>...</td>\n",
       "      <td>...</td>\n",
       "      <td>...</td>\n",
       "      <td>...</td>\n",
       "      <td>...</td>\n",
       "      <td>...</td>\n",
       "      <td>...</td>\n",
       "      <td>...</td>\n",
       "      <td>...</td>\n",
       "      <td>...</td>\n",
       "      <td>...</td>\n",
       "      <td>...</td>\n",
       "      <td>...</td>\n",
       "      <td>...</td>\n",
       "      <td>...</td>\n",
       "    </tr>\n",
       "    <tr>\n",
       "      <th>2830738</th>\n",
       "      <td>55641</td>\n",
       "      <td>49</td>\n",
       "      <td>1</td>\n",
       "      <td>3</td>\n",
       "      <td>6</td>\n",
       "      <td>18</td>\n",
       "      <td>6</td>\n",
       "      <td>6</td>\n",
       "      <td>6.000000</td>\n",
       "      <td>0.000000</td>\n",
       "      <td>...</td>\n",
       "      <td>20</td>\n",
       "      <td>0.000</td>\n",
       "      <td>0.000</td>\n",
       "      <td>0</td>\n",
       "      <td>0</td>\n",
       "      <td>0.0</td>\n",
       "      <td>0.000</td>\n",
       "      <td>0</td>\n",
       "      <td>0</td>\n",
       "      <td>BENIGN</td>\n",
       "    </tr>\n",
       "    <tr>\n",
       "      <th>2830739</th>\n",
       "      <td>45337</td>\n",
       "      <td>217</td>\n",
       "      <td>2</td>\n",
       "      <td>1</td>\n",
       "      <td>31</td>\n",
       "      <td>6</td>\n",
       "      <td>31</td>\n",
       "      <td>0</td>\n",
       "      <td>15.500000</td>\n",
       "      <td>21.920310</td>\n",
       "      <td>...</td>\n",
       "      <td>32</td>\n",
       "      <td>0.000</td>\n",
       "      <td>0.000</td>\n",
       "      <td>0</td>\n",
       "      <td>0</td>\n",
       "      <td>0.0</td>\n",
       "      <td>0.000</td>\n",
       "      <td>0</td>\n",
       "      <td>0</td>\n",
       "      <td>BENIGN</td>\n",
       "    </tr>\n",
       "    <tr>\n",
       "      <th>2830740</th>\n",
       "      <td>22</td>\n",
       "      <td>1387547</td>\n",
       "      <td>41</td>\n",
       "      <td>46</td>\n",
       "      <td>2728</td>\n",
       "      <td>6634</td>\n",
       "      <td>456</td>\n",
       "      <td>0</td>\n",
       "      <td>66.536585</td>\n",
       "      <td>110.129945</td>\n",
       "      <td>...</td>\n",
       "      <td>32</td>\n",
       "      <td>0.000</td>\n",
       "      <td>0.000</td>\n",
       "      <td>0</td>\n",
       "      <td>0</td>\n",
       "      <td>0.0</td>\n",
       "      <td>0.000</td>\n",
       "      <td>0</td>\n",
       "      <td>0</td>\n",
       "      <td>BENIGN</td>\n",
       "    </tr>\n",
       "    <tr>\n",
       "      <th>2830741</th>\n",
       "      <td>22</td>\n",
       "      <td>207</td>\n",
       "      <td>1</td>\n",
       "      <td>1</td>\n",
       "      <td>0</td>\n",
       "      <td>0</td>\n",
       "      <td>0</td>\n",
       "      <td>0</td>\n",
       "      <td>0.000000</td>\n",
       "      <td>0.000000</td>\n",
       "      <td>...</td>\n",
       "      <td>32</td>\n",
       "      <td>0.000</td>\n",
       "      <td>0.000</td>\n",
       "      <td>0</td>\n",
       "      <td>0</td>\n",
       "      <td>0.0</td>\n",
       "      <td>0.000</td>\n",
       "      <td>0</td>\n",
       "      <td>0</td>\n",
       "      <td>BENIGN</td>\n",
       "    </tr>\n",
       "    <tr>\n",
       "      <th>2830742</th>\n",
       "      <td>60146</td>\n",
       "      <td>50</td>\n",
       "      <td>1</td>\n",
       "      <td>2</td>\n",
       "      <td>0</td>\n",
       "      <td>0</td>\n",
       "      <td>0</td>\n",
       "      <td>0</td>\n",
       "      <td>0.000000</td>\n",
       "      <td>0.000000</td>\n",
       "      <td>...</td>\n",
       "      <td>32</td>\n",
       "      <td>0.000</td>\n",
       "      <td>0.000</td>\n",
       "      <td>0</td>\n",
       "      <td>0</td>\n",
       "      <td>0.0</td>\n",
       "      <td>0.000</td>\n",
       "      <td>0</td>\n",
       "      <td>0</td>\n",
       "      <td>BENIGN</td>\n",
       "    </tr>\n",
       "  </tbody>\n",
       "</table>\n",
       "<p>2830743 rows × 79 columns</p>\n",
       "</div>"
      ]
     },
     "execution_count": 200,
     "metadata": {},
     "output_type": "execute_result"
    }
   ],
   "execution_count": 200
  },
  {
   "cell_type": "code",
   "metadata": {
    "ExecuteTime": {
     "end_time": "2024-08-26T09:25:58.016499Z",
     "start_time": "2024-08-26T09:25:57.936854Z"
    }
   },
   "source": [
    "df.Label.value_counts()"
   ],
   "outputs": [
    {
     "data": {
      "text/plain": [
       "Label\n",
       "BENIGN                        2273097\n",
       "DoS Hulk                       231073\n",
       "PortScan                       158930\n",
       "DDoS                           128027\n",
       "DoS GoldenEye                   10293\n",
       "FTP-Patator                      7938\n",
       "SSH-Patator                      5897\n",
       "DoS slowloris                    5796\n",
       "DoS Slowhttptest                 5499\n",
       "Bot                              1966\n",
       "Web Attack � Brute Force         1507\n",
       "Web Attack � XSS                  652\n",
       "Infiltration                       36\n",
       "Web Attack � Sql Injection         21\n",
       "Heartbleed                         11\n",
       "Name: count, dtype: int64"
      ]
     },
     "execution_count": 201,
     "metadata": {},
     "output_type": "execute_result"
    }
   ],
   "execution_count": 201
  },
  {
   "metadata": {
    "ExecuteTime": {
     "end_time": "2024-08-26T09:26:00.807057Z",
     "start_time": "2024-08-26T09:25:58.017652Z"
    }
   },
   "cell_type": "code",
   "source": [
    "df['Label'] = df['Label'].replace(to_replace=r'^Web Attack.*', value='WebAttack', regex=True)\n",
    "df['Label'] = df['Label'].replace(to_replace=r'^D.*', value='Dos', regex=True)\n",
    "df['Label'] = df['Label'].replace(to_replace=r'^FTP-.*', value='BruteForce', regex=True)\n",
    "df['Label'] = df['Label'].replace(to_replace=r'^SSH-.*', value='BruteForce', regex=True)\n",
    "df['Label'] = df['Label'].replace(to_replace=r'^Heartbleed', value='Dos', regex=True)"
   ],
   "outputs": [],
   "execution_count": 202
  },
  {
   "metadata": {
    "ExecuteTime": {
     "end_time": "2024-08-26T09:26:00.883558Z",
     "start_time": "2024-08-26T09:26:00.807784Z"
    }
   },
   "cell_type": "code",
   "source": "df.Label.value_counts()",
   "outputs": [
    {
     "data": {
      "text/plain": [
       "Label\n",
       "BENIGN          2273097\n",
       "Dos              380699\n",
       "PortScan         158930\n",
       "BruteForce        13835\n",
       "WebAttack          2180\n",
       "Bot                1966\n",
       "Infiltration         36\n",
       "Name: count, dtype: int64"
      ]
     },
     "execution_count": 203,
     "metadata": {},
     "output_type": "execute_result"
    }
   ],
   "execution_count": 203
  },
  {
   "metadata": {
    "ExecuteTime": {
     "end_time": "2024-08-26T09:26:37.598372Z",
     "start_time": "2024-08-26T09:26:00.884176Z"
    }
   },
   "cell_type": "code",
   "source": [
    "output_path = './data/CICIDS2017_mapped.csv'\n",
    "\n",
    "df.to_csv(output_path, index=False)"
   ],
   "outputs": [],
   "execution_count": 204
  },
  {
   "cell_type": "markdown",
   "metadata": {},
   "source": [
    "### Preprocessing (normalization and padding values)"
   ]
  },
  {
   "cell_type": "code",
   "metadata": {
    "ExecuteTime": {
     "end_time": "2024-08-26T09:26:39.913075Z",
     "start_time": "2024-08-26T09:26:37.599156Z"
    }
   },
   "source": [
    "# Z-score normalization\n",
    "features = df.dtypes[df.dtypes != 'object'].index\n",
    "df[features] = df[features].apply(\n",
    "    lambda x: (x - x.mean()) / (x.std()))\n",
    "# Fill empty values by 0\n",
    "df = df.fillna(0)"
   ],
   "outputs": [],
   "execution_count": 205
  },
  {
   "cell_type": "markdown",
   "metadata": {},
   "source": [
    "### Data sampling\n",
    "Due to the space limit of GitHub files and the large size of network traffic data, we sample a small-sized subset for model learning using **k-means cluster sampling**"
   ]
  },
  {
   "metadata": {
    "ExecuteTime": {
     "end_time": "2024-08-26T09:26:40.295893Z",
     "start_time": "2024-08-26T09:26:39.914368Z"
    }
   },
   "cell_type": "code",
   "source": "df",
   "outputs": [
    {
     "data": {
      "text/plain": [
       "         Destination Port  Flow Duration  Total Fwd Packets  \\\n",
       "0               -0.440256      -0.439342          -0.011153   \n",
       "1                2.848259      -0.439344          -0.011153   \n",
       "2               -0.434732      -0.436377          -0.011153   \n",
       "3               -0.434732      -0.438247          -0.011153   \n",
       "4               -0.441459       2.863743           0.183599   \n",
       "...                   ...            ...                ...   \n",
       "2830738          2.601754      -0.439345          -0.011153   \n",
       "2830739          2.038190      -0.439340          -0.009819   \n",
       "2830740         -0.440256      -0.398117           0.042204   \n",
       "2830741         -0.440256      -0.439341          -0.011153   \n",
       "2830742          2.848149      -0.439345          -0.011153   \n",
       "\n",
       "         Total Backward Packets  Total Length of Fwd Packets  \\\n",
       "0                     -0.009418                    -0.054965   \n",
       "1                     -0.008416                    -0.054965   \n",
       "2                     -0.009418                    -0.050162   \n",
       "3                     -0.009418                    -0.050162   \n",
       "4                     -0.010421                    -0.054965   \n",
       "...                         ...                          ...   \n",
       "2830738               -0.007413                    -0.054365   \n",
       "2830739               -0.009418                    -0.051863   \n",
       "2830740                0.035699                     0.218010   \n",
       "2830741               -0.009418                    -0.054965   \n",
       "2830742               -0.008416                    -0.054965   \n",
       "\n",
       "         Total Length of Bwd Packets  Fwd Packet Length Max  \\\n",
       "0                          -0.007142              -0.289465   \n",
       "1                          -0.007142              -0.289465   \n",
       "2                          -0.007121              -0.222537   \n",
       "3                          -0.007121              -0.222537   \n",
       "4                          -0.007142              -0.289465   \n",
       "...                              ...                    ...   \n",
       "2830738                    -0.007134              -0.281099   \n",
       "2830739                    -0.007139              -0.246240   \n",
       "2830740                    -0.004210               0.346354   \n",
       "2830741                    -0.007142              -0.289465   \n",
       "2830742                    -0.007142              -0.289465   \n",
       "\n",
       "         Fwd Packet Length Min  Fwd Packet Length Mean  Fwd Packet Length Std  \\\n",
       "0                    -0.310140               -0.312760              -0.245069   \n",
       "1                    -0.310140               -0.312760              -0.245069   \n",
       "2                     0.485361               -0.054822              -0.245069   \n",
       "3                     0.485361               -0.054822              -0.245069   \n",
       "4                    -0.310140               -0.312760              -0.245069   \n",
       "...                        ...                     ...                    ...   \n",
       "2830738              -0.210703               -0.280518              -0.245069   \n",
       "2830739              -0.310140               -0.229468              -0.167112   \n",
       "2830740              -0.310140                0.044788               0.146592   \n",
       "2830741              -0.310140               -0.312760              -0.245069   \n",
       "2830742              -0.310140               -0.312760              -0.245069   \n",
       "\n",
       "         ...  min_seg_size_forward  Active Mean  Active Std  Active Max  \\\n",
       "0        ...              0.002556    -0.125734   -0.104565   -0.149326   \n",
       "1        ...              0.002556    -0.125734   -0.104565   -0.149326   \n",
       "2        ...              0.002564    -0.125734   -0.104565   -0.149326   \n",
       "3        ...              0.002556    -0.125734   -0.104565   -0.149326   \n",
       "4        ...              0.002527     2.578171    5.292733    4.552248   \n",
       "...      ...                   ...          ...         ...         ...   \n",
       "2830738  ...              0.002545    -0.125734   -0.104565   -0.149326   \n",
       "2830739  ...              0.002556    -0.125734   -0.104565   -0.149326   \n",
       "2830740  ...              0.002556    -0.125734   -0.104565   -0.149326   \n",
       "2830741  ...              0.002556    -0.125734   -0.104565   -0.149326   \n",
       "2830742  ...              0.002556    -0.125734   -0.104565   -0.149326   \n",
       "\n",
       "         Active Min  Idle Mean  Idle Std  Idle Max  Idle Min   Label  \n",
       "0         -0.101016  -0.351926 -0.109460 -0.356868 -0.338993  BENIGN  \n",
       "1         -0.101016  -0.351926 -0.109460 -0.356868 -0.338993  BENIGN  \n",
       "2         -0.101016  -0.351926 -0.109460 -0.356868 -0.338993  BENIGN  \n",
       "3         -0.101016  -0.351926 -0.109460 -0.356868 -0.338993  BENIGN  \n",
       "4         -0.100852   0.048540  0.467932  0.201267 -0.095009  BENIGN  \n",
       "...             ...        ...       ...       ...       ...     ...  \n",
       "2830738   -0.101016  -0.351926 -0.109460 -0.356868 -0.338993  BENIGN  \n",
       "2830739   -0.101016  -0.351926 -0.109460 -0.356868 -0.338993  BENIGN  \n",
       "2830740   -0.101016  -0.351926 -0.109460 -0.356868 -0.338993  BENIGN  \n",
       "2830741   -0.101016  -0.351926 -0.109460 -0.356868 -0.338993  BENIGN  \n",
       "2830742   -0.101016  -0.351926 -0.109460 -0.356868 -0.338993  BENIGN  \n",
       "\n",
       "[2830743 rows x 79 columns]"
      ],
      "text/html": [
       "<div>\n",
       "<style scoped>\n",
       "    .dataframe tbody tr th:only-of-type {\n",
       "        vertical-align: middle;\n",
       "    }\n",
       "\n",
       "    .dataframe tbody tr th {\n",
       "        vertical-align: top;\n",
       "    }\n",
       "\n",
       "    .dataframe thead th {\n",
       "        text-align: right;\n",
       "    }\n",
       "</style>\n",
       "<table border=\"1\" class=\"dataframe\">\n",
       "  <thead>\n",
       "    <tr style=\"text-align: right;\">\n",
       "      <th></th>\n",
       "      <th>Destination Port</th>\n",
       "      <th>Flow Duration</th>\n",
       "      <th>Total Fwd Packets</th>\n",
       "      <th>Total Backward Packets</th>\n",
       "      <th>Total Length of Fwd Packets</th>\n",
       "      <th>Total Length of Bwd Packets</th>\n",
       "      <th>Fwd Packet Length Max</th>\n",
       "      <th>Fwd Packet Length Min</th>\n",
       "      <th>Fwd Packet Length Mean</th>\n",
       "      <th>Fwd Packet Length Std</th>\n",
       "      <th>...</th>\n",
       "      <th>min_seg_size_forward</th>\n",
       "      <th>Active Mean</th>\n",
       "      <th>Active Std</th>\n",
       "      <th>Active Max</th>\n",
       "      <th>Active Min</th>\n",
       "      <th>Idle Mean</th>\n",
       "      <th>Idle Std</th>\n",
       "      <th>Idle Max</th>\n",
       "      <th>Idle Min</th>\n",
       "      <th>Label</th>\n",
       "    </tr>\n",
       "  </thead>\n",
       "  <tbody>\n",
       "    <tr>\n",
       "      <th>0</th>\n",
       "      <td>-0.440256</td>\n",
       "      <td>-0.439342</td>\n",
       "      <td>-0.011153</td>\n",
       "      <td>-0.009418</td>\n",
       "      <td>-0.054965</td>\n",
       "      <td>-0.007142</td>\n",
       "      <td>-0.289465</td>\n",
       "      <td>-0.310140</td>\n",
       "      <td>-0.312760</td>\n",
       "      <td>-0.245069</td>\n",
       "      <td>...</td>\n",
       "      <td>0.002556</td>\n",
       "      <td>-0.125734</td>\n",
       "      <td>-0.104565</td>\n",
       "      <td>-0.149326</td>\n",
       "      <td>-0.101016</td>\n",
       "      <td>-0.351926</td>\n",
       "      <td>-0.109460</td>\n",
       "      <td>-0.356868</td>\n",
       "      <td>-0.338993</td>\n",
       "      <td>BENIGN</td>\n",
       "    </tr>\n",
       "    <tr>\n",
       "      <th>1</th>\n",
       "      <td>2.848259</td>\n",
       "      <td>-0.439344</td>\n",
       "      <td>-0.011153</td>\n",
       "      <td>-0.008416</td>\n",
       "      <td>-0.054965</td>\n",
       "      <td>-0.007142</td>\n",
       "      <td>-0.289465</td>\n",
       "      <td>-0.310140</td>\n",
       "      <td>-0.312760</td>\n",
       "      <td>-0.245069</td>\n",
       "      <td>...</td>\n",
       "      <td>0.002556</td>\n",
       "      <td>-0.125734</td>\n",
       "      <td>-0.104565</td>\n",
       "      <td>-0.149326</td>\n",
       "      <td>-0.101016</td>\n",
       "      <td>-0.351926</td>\n",
       "      <td>-0.109460</td>\n",
       "      <td>-0.356868</td>\n",
       "      <td>-0.338993</td>\n",
       "      <td>BENIGN</td>\n",
       "    </tr>\n",
       "    <tr>\n",
       "      <th>2</th>\n",
       "      <td>-0.434732</td>\n",
       "      <td>-0.436377</td>\n",
       "      <td>-0.011153</td>\n",
       "      <td>-0.009418</td>\n",
       "      <td>-0.050162</td>\n",
       "      <td>-0.007121</td>\n",
       "      <td>-0.222537</td>\n",
       "      <td>0.485361</td>\n",
       "      <td>-0.054822</td>\n",
       "      <td>-0.245069</td>\n",
       "      <td>...</td>\n",
       "      <td>0.002564</td>\n",
       "      <td>-0.125734</td>\n",
       "      <td>-0.104565</td>\n",
       "      <td>-0.149326</td>\n",
       "      <td>-0.101016</td>\n",
       "      <td>-0.351926</td>\n",
       "      <td>-0.109460</td>\n",
       "      <td>-0.356868</td>\n",
       "      <td>-0.338993</td>\n",
       "      <td>BENIGN</td>\n",
       "    </tr>\n",
       "    <tr>\n",
       "      <th>3</th>\n",
       "      <td>-0.434732</td>\n",
       "      <td>-0.438247</td>\n",
       "      <td>-0.011153</td>\n",
       "      <td>-0.009418</td>\n",
       "      <td>-0.050162</td>\n",
       "      <td>-0.007121</td>\n",
       "      <td>-0.222537</td>\n",
       "      <td>0.485361</td>\n",
       "      <td>-0.054822</td>\n",
       "      <td>-0.245069</td>\n",
       "      <td>...</td>\n",
       "      <td>0.002556</td>\n",
       "      <td>-0.125734</td>\n",
       "      <td>-0.104565</td>\n",
       "      <td>-0.149326</td>\n",
       "      <td>-0.101016</td>\n",
       "      <td>-0.351926</td>\n",
       "      <td>-0.109460</td>\n",
       "      <td>-0.356868</td>\n",
       "      <td>-0.338993</td>\n",
       "      <td>BENIGN</td>\n",
       "    </tr>\n",
       "    <tr>\n",
       "      <th>4</th>\n",
       "      <td>-0.441459</td>\n",
       "      <td>2.863743</td>\n",
       "      <td>0.183599</td>\n",
       "      <td>-0.010421</td>\n",
       "      <td>-0.054965</td>\n",
       "      <td>-0.007142</td>\n",
       "      <td>-0.289465</td>\n",
       "      <td>-0.310140</td>\n",
       "      <td>-0.312760</td>\n",
       "      <td>-0.245069</td>\n",
       "      <td>...</td>\n",
       "      <td>0.002527</td>\n",
       "      <td>2.578171</td>\n",
       "      <td>5.292733</td>\n",
       "      <td>4.552248</td>\n",
       "      <td>-0.100852</td>\n",
       "      <td>0.048540</td>\n",
       "      <td>0.467932</td>\n",
       "      <td>0.201267</td>\n",
       "      <td>-0.095009</td>\n",
       "      <td>BENIGN</td>\n",
       "    </tr>\n",
       "    <tr>\n",
       "      <th>...</th>\n",
       "      <td>...</td>\n",
       "      <td>...</td>\n",
       "      <td>...</td>\n",
       "      <td>...</td>\n",
       "      <td>...</td>\n",
       "      <td>...</td>\n",
       "      <td>...</td>\n",
       "      <td>...</td>\n",
       "      <td>...</td>\n",
       "      <td>...</td>\n",
       "      <td>...</td>\n",
       "      <td>...</td>\n",
       "      <td>...</td>\n",
       "      <td>...</td>\n",
       "      <td>...</td>\n",
       "      <td>...</td>\n",
       "      <td>...</td>\n",
       "      <td>...</td>\n",
       "      <td>...</td>\n",
       "      <td>...</td>\n",
       "      <td>...</td>\n",
       "    </tr>\n",
       "    <tr>\n",
       "      <th>2830738</th>\n",
       "      <td>2.601754</td>\n",
       "      <td>-0.439345</td>\n",
       "      <td>-0.011153</td>\n",
       "      <td>-0.007413</td>\n",
       "      <td>-0.054365</td>\n",
       "      <td>-0.007134</td>\n",
       "      <td>-0.281099</td>\n",
       "      <td>-0.210703</td>\n",
       "      <td>-0.280518</td>\n",
       "      <td>-0.245069</td>\n",
       "      <td>...</td>\n",
       "      <td>0.002545</td>\n",
       "      <td>-0.125734</td>\n",
       "      <td>-0.104565</td>\n",
       "      <td>-0.149326</td>\n",
       "      <td>-0.101016</td>\n",
       "      <td>-0.351926</td>\n",
       "      <td>-0.109460</td>\n",
       "      <td>-0.356868</td>\n",
       "      <td>-0.338993</td>\n",
       "      <td>BENIGN</td>\n",
       "    </tr>\n",
       "    <tr>\n",
       "      <th>2830739</th>\n",
       "      <td>2.038190</td>\n",
       "      <td>-0.439340</td>\n",
       "      <td>-0.009819</td>\n",
       "      <td>-0.009418</td>\n",
       "      <td>-0.051863</td>\n",
       "      <td>-0.007139</td>\n",
       "      <td>-0.246240</td>\n",
       "      <td>-0.310140</td>\n",
       "      <td>-0.229468</td>\n",
       "      <td>-0.167112</td>\n",
       "      <td>...</td>\n",
       "      <td>0.002556</td>\n",
       "      <td>-0.125734</td>\n",
       "      <td>-0.104565</td>\n",
       "      <td>-0.149326</td>\n",
       "      <td>-0.101016</td>\n",
       "      <td>-0.351926</td>\n",
       "      <td>-0.109460</td>\n",
       "      <td>-0.356868</td>\n",
       "      <td>-0.338993</td>\n",
       "      <td>BENIGN</td>\n",
       "    </tr>\n",
       "    <tr>\n",
       "      <th>2830740</th>\n",
       "      <td>-0.440256</td>\n",
       "      <td>-0.398117</td>\n",
       "      <td>0.042204</td>\n",
       "      <td>0.035699</td>\n",
       "      <td>0.218010</td>\n",
       "      <td>-0.004210</td>\n",
       "      <td>0.346354</td>\n",
       "      <td>-0.310140</td>\n",
       "      <td>0.044788</td>\n",
       "      <td>0.146592</td>\n",
       "      <td>...</td>\n",
       "      <td>0.002556</td>\n",
       "      <td>-0.125734</td>\n",
       "      <td>-0.104565</td>\n",
       "      <td>-0.149326</td>\n",
       "      <td>-0.101016</td>\n",
       "      <td>-0.351926</td>\n",
       "      <td>-0.109460</td>\n",
       "      <td>-0.356868</td>\n",
       "      <td>-0.338993</td>\n",
       "      <td>BENIGN</td>\n",
       "    </tr>\n",
       "    <tr>\n",
       "      <th>2830741</th>\n",
       "      <td>-0.440256</td>\n",
       "      <td>-0.439341</td>\n",
       "      <td>-0.011153</td>\n",
       "      <td>-0.009418</td>\n",
       "      <td>-0.054965</td>\n",
       "      <td>-0.007142</td>\n",
       "      <td>-0.289465</td>\n",
       "      <td>-0.310140</td>\n",
       "      <td>-0.312760</td>\n",
       "      <td>-0.245069</td>\n",
       "      <td>...</td>\n",
       "      <td>0.002556</td>\n",
       "      <td>-0.125734</td>\n",
       "      <td>-0.104565</td>\n",
       "      <td>-0.149326</td>\n",
       "      <td>-0.101016</td>\n",
       "      <td>-0.351926</td>\n",
       "      <td>-0.109460</td>\n",
       "      <td>-0.356868</td>\n",
       "      <td>-0.338993</td>\n",
       "      <td>BENIGN</td>\n",
       "    </tr>\n",
       "    <tr>\n",
       "      <th>2830742</th>\n",
       "      <td>2.848149</td>\n",
       "      <td>-0.439345</td>\n",
       "      <td>-0.011153</td>\n",
       "      <td>-0.008416</td>\n",
       "      <td>-0.054965</td>\n",
       "      <td>-0.007142</td>\n",
       "      <td>-0.289465</td>\n",
       "      <td>-0.310140</td>\n",
       "      <td>-0.312760</td>\n",
       "      <td>-0.245069</td>\n",
       "      <td>...</td>\n",
       "      <td>0.002556</td>\n",
       "      <td>-0.125734</td>\n",
       "      <td>-0.104565</td>\n",
       "      <td>-0.149326</td>\n",
       "      <td>-0.101016</td>\n",
       "      <td>-0.351926</td>\n",
       "      <td>-0.109460</td>\n",
       "      <td>-0.356868</td>\n",
       "      <td>-0.338993</td>\n",
       "      <td>BENIGN</td>\n",
       "    </tr>\n",
       "  </tbody>\n",
       "</table>\n",
       "<p>2830743 rows × 79 columns</p>\n",
       "</div>"
      ]
     },
     "execution_count": 206,
     "metadata": {},
     "output_type": "execute_result"
    }
   ],
   "execution_count": 206
  },
  {
   "metadata": {
    "ExecuteTime": {
     "end_time": "2024-08-26T09:26:40.374195Z",
     "start_time": "2024-08-26T09:26:40.296537Z"
    }
   },
   "cell_type": "code",
   "source": [
    "# Label 열에 있는 고유한 값들을 확인\n",
    "df.Label.value_counts()"
   ],
   "outputs": [
    {
     "data": {
      "text/plain": [
       "Label\n",
       "BENIGN          2273097\n",
       "Dos              380699\n",
       "PortScan         158930\n",
       "BruteForce        13835\n",
       "WebAttack          2180\n",
       "Bot                1966\n",
       "Infiltration         36\n",
       "Name: count, dtype: int64"
      ]
     },
     "execution_count": 207,
     "metadata": {},
     "output_type": "execute_result"
    }
   ],
   "execution_count": 207
  },
  {
   "cell_type": "code",
   "metadata": {
    "ExecuteTime": {
     "end_time": "2024-08-26T09:26:40.572343Z",
     "start_time": "2024-08-26T09:26:40.376594Z"
    }
   },
   "source": [
    "labelencoder = LabelEncoder()\n",
    "df.iloc[:, -1] = labelencoder.fit_transform(df.iloc[:, -1])"
   ],
   "outputs": [],
   "execution_count": 208
  },
  {
   "cell_type": "code",
   "metadata": {
    "ExecuteTime": {
     "end_time": "2024-08-26T09:26:40.626913Z",
     "start_time": "2024-08-26T09:26:40.573218Z"
    }
   },
   "source": [
    "df.Label.value_counts()"
   ],
   "outputs": [
    {
     "data": {
      "text/plain": [
       "Label\n",
       "0    2273097\n",
       "3     380699\n",
       "5     158930\n",
       "2      13835\n",
       "6       2180\n",
       "1       1966\n",
       "4         36\n",
       "Name: count, dtype: int64"
      ]
     },
     "execution_count": 209,
     "metadata": {},
     "output_type": "execute_result"
    }
   ],
   "execution_count": 209
  },
  {
   "cell_type": "code",
   "metadata": {
    "ExecuteTime": {
     "end_time": "2024-08-26T09:26:41.506347Z",
     "start_time": "2024-08-26T09:26:40.628074Z"
    }
   },
   "source": [
    "# retain the minority class instances and sample the majority class instances\n",
    "df_minor = df[(df['Label']==6)|(df['Label']==1)|(df['Label']==4)]\n",
    "df_major = df.drop(df_minor.index)"
   ],
   "outputs": [],
   "execution_count": 210
  },
  {
   "cell_type": "code",
   "metadata": {
    "ExecuteTime": {
     "end_time": "2024-08-26T09:26:42.098806Z",
     "start_time": "2024-08-26T09:26:41.507002Z"
    }
   },
   "source": [
    "X = df_major.drop(['Label'],axis=1) \n",
    "y = df_major.iloc[:, -1].values.reshape(-1,1)\n",
    "y=np.ravel(y)"
   ],
   "outputs": [],
   "execution_count": 211
  },
  {
   "cell_type": "code",
   "metadata": {
    "scrolled": true,
    "ExecuteTime": {
     "end_time": "2024-08-26T09:26:45.533351Z",
     "start_time": "2024-08-26T09:26:42.099414Z"
    }
   },
   "source": [
    "# use k-means to cluster the data samples and select a proportion of data from each cluster\n",
    "from sklearn.cluster import MiniBatchKMeans\n",
    "kmeans = MiniBatchKMeans(n_clusters=1000, random_state=0).fit(X)"
   ],
   "outputs": [],
   "execution_count": 212
  },
  {
   "cell_type": "code",
   "metadata": {
    "ExecuteTime": {
     "end_time": "2024-08-26T09:26:45.543230Z",
     "start_time": "2024-08-26T09:26:45.535387Z"
    }
   },
   "source": [
    "klabel=kmeans.labels_\n",
    "df_major['klabel']=klabel"
   ],
   "outputs": [],
   "execution_count": 213
  },
  {
   "cell_type": "code",
   "metadata": {
    "scrolled": true,
    "ExecuteTime": {
     "end_time": "2024-08-26T09:26:45.555484Z",
     "start_time": "2024-08-26T09:26:45.544237Z"
    }
   },
   "source": [
    "df_major['klabel'].value_counts()"
   ],
   "outputs": [
    {
     "data": {
      "text/plain": [
       "klabel\n",
       "165    26366\n",
       "227    14871\n",
       "6      14754\n",
       "31     14470\n",
       "33     14387\n",
       "       ...  \n",
       "853       42\n",
       "104       24\n",
       "475       21\n",
       "131        7\n",
       "694        2\n",
       "Name: count, Length: 997, dtype: int64"
      ]
     },
     "execution_count": 214,
     "metadata": {},
     "output_type": "execute_result"
    }
   ],
   "execution_count": 214
  },
  {
   "cell_type": "code",
   "metadata": {
    "ExecuteTime": {
     "end_time": "2024-08-26T09:26:45.915128Z",
     "start_time": "2024-08-26T09:26:45.556698Z"
    }
   },
   "source": [
    "cols = list(df_major)\n",
    "cols.insert(78, cols.pop(cols.index('Label')))\n",
    "df_major = df_major.loc[:, cols]"
   ],
   "outputs": [],
   "execution_count": 215
  },
  {
   "cell_type": "code",
   "metadata": {
    "scrolled": true,
    "ExecuteTime": {
     "end_time": "2024-08-26T09:26:46.247945Z",
     "start_time": "2024-08-26T09:26:45.915999Z"
    }
   },
   "source": [
    "df_major"
   ],
   "outputs": [
    {
     "data": {
      "text/plain": [
       "         Destination Port  Flow Duration  Total Fwd Packets  \\\n",
       "0               -0.440256      -0.439342          -0.011153   \n",
       "1                2.848259      -0.439344          -0.011153   \n",
       "2               -0.434732      -0.436377          -0.011153   \n",
       "3               -0.434732      -0.438247          -0.011153   \n",
       "4               -0.441459       2.863743           0.183599   \n",
       "...                   ...            ...                ...   \n",
       "2830738          2.601754      -0.439345          -0.011153   \n",
       "2830739          2.038190      -0.439340          -0.009819   \n",
       "2830740         -0.440256      -0.398117           0.042204   \n",
       "2830741         -0.440256      -0.439341          -0.011153   \n",
       "2830742          2.848149      -0.439345          -0.011153   \n",
       "\n",
       "         Total Backward Packets  Total Length of Fwd Packets  \\\n",
       "0                     -0.009418                    -0.054965   \n",
       "1                     -0.008416                    -0.054965   \n",
       "2                     -0.009418                    -0.050162   \n",
       "3                     -0.009418                    -0.050162   \n",
       "4                     -0.010421                    -0.054965   \n",
       "...                         ...                          ...   \n",
       "2830738               -0.007413                    -0.054365   \n",
       "2830739               -0.009418                    -0.051863   \n",
       "2830740                0.035699                     0.218010   \n",
       "2830741               -0.009418                    -0.054965   \n",
       "2830742               -0.008416                    -0.054965   \n",
       "\n",
       "         Total Length of Bwd Packets  Fwd Packet Length Max  \\\n",
       "0                          -0.007142              -0.289465   \n",
       "1                          -0.007142              -0.289465   \n",
       "2                          -0.007121              -0.222537   \n",
       "3                          -0.007121              -0.222537   \n",
       "4                          -0.007142              -0.289465   \n",
       "...                              ...                    ...   \n",
       "2830738                    -0.007134              -0.281099   \n",
       "2830739                    -0.007139              -0.246240   \n",
       "2830740                    -0.004210               0.346354   \n",
       "2830741                    -0.007142              -0.289465   \n",
       "2830742                    -0.007142              -0.289465   \n",
       "\n",
       "         Fwd Packet Length Min  Fwd Packet Length Mean  Fwd Packet Length Std  \\\n",
       "0                    -0.310140               -0.312760              -0.245069   \n",
       "1                    -0.310140               -0.312760              -0.245069   \n",
       "2                     0.485361               -0.054822              -0.245069   \n",
       "3                     0.485361               -0.054822              -0.245069   \n",
       "4                    -0.310140               -0.312760              -0.245069   \n",
       "...                        ...                     ...                    ...   \n",
       "2830738              -0.210703               -0.280518              -0.245069   \n",
       "2830739              -0.310140               -0.229468              -0.167112   \n",
       "2830740              -0.310140                0.044788               0.146592   \n",
       "2830741              -0.310140               -0.312760              -0.245069   \n",
       "2830742              -0.310140               -0.312760              -0.245069   \n",
       "\n",
       "         ...  Active Mean  Active Std  Active Max  Active Min  Idle Mean  \\\n",
       "0        ...    -0.125734   -0.104565   -0.149326   -0.101016  -0.351926   \n",
       "1        ...    -0.125734   -0.104565   -0.149326   -0.101016  -0.351926   \n",
       "2        ...    -0.125734   -0.104565   -0.149326   -0.101016  -0.351926   \n",
       "3        ...    -0.125734   -0.104565   -0.149326   -0.101016  -0.351926   \n",
       "4        ...     2.578171    5.292733    4.552248   -0.100852   0.048540   \n",
       "...      ...          ...         ...         ...         ...        ...   \n",
       "2830738  ...    -0.125734   -0.104565   -0.149326   -0.101016  -0.351926   \n",
       "2830739  ...    -0.125734   -0.104565   -0.149326   -0.101016  -0.351926   \n",
       "2830740  ...    -0.125734   -0.104565   -0.149326   -0.101016  -0.351926   \n",
       "2830741  ...    -0.125734   -0.104565   -0.149326   -0.101016  -0.351926   \n",
       "2830742  ...    -0.125734   -0.104565   -0.149326   -0.101016  -0.351926   \n",
       "\n",
       "         Idle Std  Idle Max  Idle Min  Label  klabel  \n",
       "0       -0.109460 -0.356868 -0.338993      0     710  \n",
       "1       -0.109460 -0.356868 -0.338993      0     547  \n",
       "2       -0.109460 -0.356868 -0.338993      0     227  \n",
       "3       -0.109460 -0.356868 -0.338993      0     227  \n",
       "4        0.467932  0.201267 -0.095009      0      75  \n",
       "...           ...       ...       ...    ...     ...  \n",
       "2830738 -0.109460 -0.356868 -0.338993      0     592  \n",
       "2830739 -0.109460 -0.356868 -0.338993      0     225  \n",
       "2830740 -0.109460 -0.356868 -0.338993      0     571  \n",
       "2830741 -0.109460 -0.356868 -0.338993      0     710  \n",
       "2830742 -0.109460 -0.356868 -0.338993      0     520  \n",
       "\n",
       "[2826561 rows x 80 columns]"
      ],
      "text/html": [
       "<div>\n",
       "<style scoped>\n",
       "    .dataframe tbody tr th:only-of-type {\n",
       "        vertical-align: middle;\n",
       "    }\n",
       "\n",
       "    .dataframe tbody tr th {\n",
       "        vertical-align: top;\n",
       "    }\n",
       "\n",
       "    .dataframe thead th {\n",
       "        text-align: right;\n",
       "    }\n",
       "</style>\n",
       "<table border=\"1\" class=\"dataframe\">\n",
       "  <thead>\n",
       "    <tr style=\"text-align: right;\">\n",
       "      <th></th>\n",
       "      <th>Destination Port</th>\n",
       "      <th>Flow Duration</th>\n",
       "      <th>Total Fwd Packets</th>\n",
       "      <th>Total Backward Packets</th>\n",
       "      <th>Total Length of Fwd Packets</th>\n",
       "      <th>Total Length of Bwd Packets</th>\n",
       "      <th>Fwd Packet Length Max</th>\n",
       "      <th>Fwd Packet Length Min</th>\n",
       "      <th>Fwd Packet Length Mean</th>\n",
       "      <th>Fwd Packet Length Std</th>\n",
       "      <th>...</th>\n",
       "      <th>Active Mean</th>\n",
       "      <th>Active Std</th>\n",
       "      <th>Active Max</th>\n",
       "      <th>Active Min</th>\n",
       "      <th>Idle Mean</th>\n",
       "      <th>Idle Std</th>\n",
       "      <th>Idle Max</th>\n",
       "      <th>Idle Min</th>\n",
       "      <th>Label</th>\n",
       "      <th>klabel</th>\n",
       "    </tr>\n",
       "  </thead>\n",
       "  <tbody>\n",
       "    <tr>\n",
       "      <th>0</th>\n",
       "      <td>-0.440256</td>\n",
       "      <td>-0.439342</td>\n",
       "      <td>-0.011153</td>\n",
       "      <td>-0.009418</td>\n",
       "      <td>-0.054965</td>\n",
       "      <td>-0.007142</td>\n",
       "      <td>-0.289465</td>\n",
       "      <td>-0.310140</td>\n",
       "      <td>-0.312760</td>\n",
       "      <td>-0.245069</td>\n",
       "      <td>...</td>\n",
       "      <td>-0.125734</td>\n",
       "      <td>-0.104565</td>\n",
       "      <td>-0.149326</td>\n",
       "      <td>-0.101016</td>\n",
       "      <td>-0.351926</td>\n",
       "      <td>-0.109460</td>\n",
       "      <td>-0.356868</td>\n",
       "      <td>-0.338993</td>\n",
       "      <td>0</td>\n",
       "      <td>710</td>\n",
       "    </tr>\n",
       "    <tr>\n",
       "      <th>1</th>\n",
       "      <td>2.848259</td>\n",
       "      <td>-0.439344</td>\n",
       "      <td>-0.011153</td>\n",
       "      <td>-0.008416</td>\n",
       "      <td>-0.054965</td>\n",
       "      <td>-0.007142</td>\n",
       "      <td>-0.289465</td>\n",
       "      <td>-0.310140</td>\n",
       "      <td>-0.312760</td>\n",
       "      <td>-0.245069</td>\n",
       "      <td>...</td>\n",
       "      <td>-0.125734</td>\n",
       "      <td>-0.104565</td>\n",
       "      <td>-0.149326</td>\n",
       "      <td>-0.101016</td>\n",
       "      <td>-0.351926</td>\n",
       "      <td>-0.109460</td>\n",
       "      <td>-0.356868</td>\n",
       "      <td>-0.338993</td>\n",
       "      <td>0</td>\n",
       "      <td>547</td>\n",
       "    </tr>\n",
       "    <tr>\n",
       "      <th>2</th>\n",
       "      <td>-0.434732</td>\n",
       "      <td>-0.436377</td>\n",
       "      <td>-0.011153</td>\n",
       "      <td>-0.009418</td>\n",
       "      <td>-0.050162</td>\n",
       "      <td>-0.007121</td>\n",
       "      <td>-0.222537</td>\n",
       "      <td>0.485361</td>\n",
       "      <td>-0.054822</td>\n",
       "      <td>-0.245069</td>\n",
       "      <td>...</td>\n",
       "      <td>-0.125734</td>\n",
       "      <td>-0.104565</td>\n",
       "      <td>-0.149326</td>\n",
       "      <td>-0.101016</td>\n",
       "      <td>-0.351926</td>\n",
       "      <td>-0.109460</td>\n",
       "      <td>-0.356868</td>\n",
       "      <td>-0.338993</td>\n",
       "      <td>0</td>\n",
       "      <td>227</td>\n",
       "    </tr>\n",
       "    <tr>\n",
       "      <th>3</th>\n",
       "      <td>-0.434732</td>\n",
       "      <td>-0.438247</td>\n",
       "      <td>-0.011153</td>\n",
       "      <td>-0.009418</td>\n",
       "      <td>-0.050162</td>\n",
       "      <td>-0.007121</td>\n",
       "      <td>-0.222537</td>\n",
       "      <td>0.485361</td>\n",
       "      <td>-0.054822</td>\n",
       "      <td>-0.245069</td>\n",
       "      <td>...</td>\n",
       "      <td>-0.125734</td>\n",
       "      <td>-0.104565</td>\n",
       "      <td>-0.149326</td>\n",
       "      <td>-0.101016</td>\n",
       "      <td>-0.351926</td>\n",
       "      <td>-0.109460</td>\n",
       "      <td>-0.356868</td>\n",
       "      <td>-0.338993</td>\n",
       "      <td>0</td>\n",
       "      <td>227</td>\n",
       "    </tr>\n",
       "    <tr>\n",
       "      <th>4</th>\n",
       "      <td>-0.441459</td>\n",
       "      <td>2.863743</td>\n",
       "      <td>0.183599</td>\n",
       "      <td>-0.010421</td>\n",
       "      <td>-0.054965</td>\n",
       "      <td>-0.007142</td>\n",
       "      <td>-0.289465</td>\n",
       "      <td>-0.310140</td>\n",
       "      <td>-0.312760</td>\n",
       "      <td>-0.245069</td>\n",
       "      <td>...</td>\n",
       "      <td>2.578171</td>\n",
       "      <td>5.292733</td>\n",
       "      <td>4.552248</td>\n",
       "      <td>-0.100852</td>\n",
       "      <td>0.048540</td>\n",
       "      <td>0.467932</td>\n",
       "      <td>0.201267</td>\n",
       "      <td>-0.095009</td>\n",
       "      <td>0</td>\n",
       "      <td>75</td>\n",
       "    </tr>\n",
       "    <tr>\n",
       "      <th>...</th>\n",
       "      <td>...</td>\n",
       "      <td>...</td>\n",
       "      <td>...</td>\n",
       "      <td>...</td>\n",
       "      <td>...</td>\n",
       "      <td>...</td>\n",
       "      <td>...</td>\n",
       "      <td>...</td>\n",
       "      <td>...</td>\n",
       "      <td>...</td>\n",
       "      <td>...</td>\n",
       "      <td>...</td>\n",
       "      <td>...</td>\n",
       "      <td>...</td>\n",
       "      <td>...</td>\n",
       "      <td>...</td>\n",
       "      <td>...</td>\n",
       "      <td>...</td>\n",
       "      <td>...</td>\n",
       "      <td>...</td>\n",
       "      <td>...</td>\n",
       "    </tr>\n",
       "    <tr>\n",
       "      <th>2830738</th>\n",
       "      <td>2.601754</td>\n",
       "      <td>-0.439345</td>\n",
       "      <td>-0.011153</td>\n",
       "      <td>-0.007413</td>\n",
       "      <td>-0.054365</td>\n",
       "      <td>-0.007134</td>\n",
       "      <td>-0.281099</td>\n",
       "      <td>-0.210703</td>\n",
       "      <td>-0.280518</td>\n",
       "      <td>-0.245069</td>\n",
       "      <td>...</td>\n",
       "      <td>-0.125734</td>\n",
       "      <td>-0.104565</td>\n",
       "      <td>-0.149326</td>\n",
       "      <td>-0.101016</td>\n",
       "      <td>-0.351926</td>\n",
       "      <td>-0.109460</td>\n",
       "      <td>-0.356868</td>\n",
       "      <td>-0.338993</td>\n",
       "      <td>0</td>\n",
       "      <td>592</td>\n",
       "    </tr>\n",
       "    <tr>\n",
       "      <th>2830739</th>\n",
       "      <td>2.038190</td>\n",
       "      <td>-0.439340</td>\n",
       "      <td>-0.009819</td>\n",
       "      <td>-0.009418</td>\n",
       "      <td>-0.051863</td>\n",
       "      <td>-0.007139</td>\n",
       "      <td>-0.246240</td>\n",
       "      <td>-0.310140</td>\n",
       "      <td>-0.229468</td>\n",
       "      <td>-0.167112</td>\n",
       "      <td>...</td>\n",
       "      <td>-0.125734</td>\n",
       "      <td>-0.104565</td>\n",
       "      <td>-0.149326</td>\n",
       "      <td>-0.101016</td>\n",
       "      <td>-0.351926</td>\n",
       "      <td>-0.109460</td>\n",
       "      <td>-0.356868</td>\n",
       "      <td>-0.338993</td>\n",
       "      <td>0</td>\n",
       "      <td>225</td>\n",
       "    </tr>\n",
       "    <tr>\n",
       "      <th>2830740</th>\n",
       "      <td>-0.440256</td>\n",
       "      <td>-0.398117</td>\n",
       "      <td>0.042204</td>\n",
       "      <td>0.035699</td>\n",
       "      <td>0.218010</td>\n",
       "      <td>-0.004210</td>\n",
       "      <td>0.346354</td>\n",
       "      <td>-0.310140</td>\n",
       "      <td>0.044788</td>\n",
       "      <td>0.146592</td>\n",
       "      <td>...</td>\n",
       "      <td>-0.125734</td>\n",
       "      <td>-0.104565</td>\n",
       "      <td>-0.149326</td>\n",
       "      <td>-0.101016</td>\n",
       "      <td>-0.351926</td>\n",
       "      <td>-0.109460</td>\n",
       "      <td>-0.356868</td>\n",
       "      <td>-0.338993</td>\n",
       "      <td>0</td>\n",
       "      <td>571</td>\n",
       "    </tr>\n",
       "    <tr>\n",
       "      <th>2830741</th>\n",
       "      <td>-0.440256</td>\n",
       "      <td>-0.439341</td>\n",
       "      <td>-0.011153</td>\n",
       "      <td>-0.009418</td>\n",
       "      <td>-0.054965</td>\n",
       "      <td>-0.007142</td>\n",
       "      <td>-0.289465</td>\n",
       "      <td>-0.310140</td>\n",
       "      <td>-0.312760</td>\n",
       "      <td>-0.245069</td>\n",
       "      <td>...</td>\n",
       "      <td>-0.125734</td>\n",
       "      <td>-0.104565</td>\n",
       "      <td>-0.149326</td>\n",
       "      <td>-0.101016</td>\n",
       "      <td>-0.351926</td>\n",
       "      <td>-0.109460</td>\n",
       "      <td>-0.356868</td>\n",
       "      <td>-0.338993</td>\n",
       "      <td>0</td>\n",
       "      <td>710</td>\n",
       "    </tr>\n",
       "    <tr>\n",
       "      <th>2830742</th>\n",
       "      <td>2.848149</td>\n",
       "      <td>-0.439345</td>\n",
       "      <td>-0.011153</td>\n",
       "      <td>-0.008416</td>\n",
       "      <td>-0.054965</td>\n",
       "      <td>-0.007142</td>\n",
       "      <td>-0.289465</td>\n",
       "      <td>-0.310140</td>\n",
       "      <td>-0.312760</td>\n",
       "      <td>-0.245069</td>\n",
       "      <td>...</td>\n",
       "      <td>-0.125734</td>\n",
       "      <td>-0.104565</td>\n",
       "      <td>-0.149326</td>\n",
       "      <td>-0.101016</td>\n",
       "      <td>-0.351926</td>\n",
       "      <td>-0.109460</td>\n",
       "      <td>-0.356868</td>\n",
       "      <td>-0.338993</td>\n",
       "      <td>0</td>\n",
       "      <td>520</td>\n",
       "    </tr>\n",
       "  </tbody>\n",
       "</table>\n",
       "<p>2826561 rows × 80 columns</p>\n",
       "</div>"
      ]
     },
     "execution_count": 216,
     "metadata": {},
     "output_type": "execute_result"
    }
   ],
   "execution_count": 216
  },
  {
   "cell_type": "code",
   "metadata": {
    "ExecuteTime": {
     "end_time": "2024-08-26T09:26:49.274753Z",
     "start_time": "2024-08-26T09:26:46.248655Z"
    }
   },
   "source": [
    "def typicalSampling(group):\n",
    "    name = group.name\n",
    "    frac = 0.008\n",
    "    return group.sample(frac=frac)\n",
    "\n",
    "result = df_major.groupby(\n",
    "    'klabel', group_keys=False\n",
    ").apply(typicalSampling)"
   ],
   "outputs": [],
   "execution_count": 217
  },
  {
   "cell_type": "code",
   "metadata": {
    "ExecuteTime": {
     "end_time": "2024-08-26T09:26:49.278315Z",
     "start_time": "2024-08-26T09:26:49.275430Z"
    }
   },
   "source": [
    "result['Label'].value_counts()"
   ],
   "outputs": [
    {
     "data": {
      "text/plain": [
       "Label\n",
       "0    18225\n",
       "3     3011\n",
       "5     1279\n",
       "2      112\n",
       "Name: count, dtype: int64"
      ]
     },
     "execution_count": 218,
     "metadata": {},
     "output_type": "execute_result"
    }
   ],
   "execution_count": 218
  },
  {
   "cell_type": "code",
   "metadata": {
    "scrolled": true,
    "ExecuteTime": {
     "end_time": "2024-08-26T09:26:49.289989Z",
     "start_time": "2024-08-26T09:26:49.278977Z"
    }
   },
   "source": [
    "result"
   ],
   "outputs": [
    {
     "data": {
      "text/plain": [
       "         Destination Port  Flow Duration  Total Fwd Packets  \\\n",
       "995217          -0.438561      -0.438648          -0.011153   \n",
       "949756          -0.438561      -0.438408          -0.011153   \n",
       "2470630         -0.438561      -0.436479          -0.011153   \n",
       "512478          -0.438561      -0.438430          -0.011153   \n",
       "784725          -0.438561      -0.437335          -0.009819   \n",
       "...                   ...            ...                ...   \n",
       "1518644          2.728862      -0.439338          -0.008485   \n",
       "1891634          2.696210      -0.439345          -0.008485   \n",
       "1795518          2.986689      -0.439335          -0.009819   \n",
       "1269143          2.872433      -0.439336          -0.009819   \n",
       "1783485          2.964210      -0.438754          -0.008485   \n",
       "\n",
       "         Total Backward Packets  Total Length of Fwd Packets  \\\n",
       "995217                -0.009418                    -0.050262   \n",
       "949756                -0.009418                    -0.050062   \n",
       "2470630               -0.009418                    -0.050262   \n",
       "512478                -0.009418                    -0.050062   \n",
       "784725                -0.008416                    -0.045760   \n",
       "...                         ...                          ...   \n",
       "1518644               -0.010421                    -0.051863   \n",
       "1891634               -0.009418                    -0.051863   \n",
       "1795518               -0.010421                    -0.054965   \n",
       "1269143               -0.010421                    -0.054965   \n",
       "1783485               -0.009418                    -0.051163   \n",
       "\n",
       "         Total Length of Bwd Packets  Fwd Packet Length Max  \\\n",
       "995217                     -0.007065              -0.223931   \n",
       "949756                     -0.007064              -0.221142   \n",
       "2470630                    -0.007066              -0.223931   \n",
       "512478                     -0.007064              -0.221142   \n",
       "784725                     -0.006988              -0.225325   \n",
       "...                              ...                    ...   \n",
       "1518644                    -0.007142              -0.246240   \n",
       "1891634                    -0.007142              -0.246240   \n",
       "1795518                    -0.007142              -0.289465   \n",
       "1269143                    -0.007142              -0.289465   \n",
       "1783485                    -0.007142              -0.236480   \n",
       "\n",
       "         Fwd Packet Length Min  Fwd Packet Length Mean  Fwd Packet Length Std  \\\n",
       "995217                0.468788               -0.060196              -0.245069   \n",
       "949756                0.501934               -0.049449              -0.245069   \n",
       "2470630               0.468788               -0.060196              -0.245069   \n",
       "512478                0.501934               -0.049449              -0.245069   \n",
       "784725                0.452215               -0.065570              -0.245069   \n",
       "...                        ...                     ...                    ...   \n",
       "1518644              -0.310140               -0.257232              -0.181418   \n",
       "1891634              -0.310140               -0.257232              -0.181418   \n",
       "1795518              -0.310140               -0.312760              -0.245069   \n",
       "1269143              -0.310140               -0.312760              -0.245069   \n",
       "1783485              -0.310140               -0.244693              -0.167045   \n",
       "\n",
       "         ...  Active Mean  Active Std  Active Max  Active Min  Idle Mean  \\\n",
       "995217   ...    -0.125734   -0.104565   -0.149326   -0.101016  -0.351926   \n",
       "949756   ...    -0.125734   -0.104565   -0.149326   -0.101016  -0.351926   \n",
       "2470630  ...    -0.125734   -0.104565   -0.149326   -0.101016  -0.351926   \n",
       "512478   ...    -0.125734   -0.104565   -0.149326   -0.101016  -0.351926   \n",
       "784725   ...    -0.125734   -0.104565   -0.149326   -0.101016  -0.351926   \n",
       "...      ...          ...         ...         ...         ...        ...   \n",
       "1518644  ...    -0.125734   -0.104565   -0.149326   -0.101016  -0.351926   \n",
       "1891634  ...    -0.125734   -0.104565   -0.149326   -0.101016  -0.351926   \n",
       "1795518  ...    -0.125734   -0.104565   -0.149326   -0.101016  -0.351926   \n",
       "1269143  ...    -0.125734   -0.104565   -0.149326   -0.101016  -0.351926   \n",
       "1783485  ...    -0.125734   -0.104565   -0.149326   -0.101016  -0.351926   \n",
       "\n",
       "         Idle Std  Idle Max  Idle Min  Label  klabel  \n",
       "995217   -0.10946 -0.356868 -0.338993      0       0  \n",
       "949756   -0.10946 -0.356868 -0.338993      0       0  \n",
       "2470630  -0.10946 -0.356868 -0.338993      0       0  \n",
       "512478   -0.10946 -0.356868 -0.338993      0       0  \n",
       "784725   -0.10946 -0.356868 -0.338993      0       0  \n",
       "...           ...       ...       ...    ...     ...  \n",
       "1518644  -0.10946 -0.356868 -0.338993      0     999  \n",
       "1891634  -0.10946 -0.356868 -0.338993      0     999  \n",
       "1795518  -0.10946 -0.356868 -0.338993      0     999  \n",
       "1269143  -0.10946 -0.356868 -0.338993      0     999  \n",
       "1783485  -0.10946 -0.356868 -0.338993      0     999  \n",
       "\n",
       "[22627 rows x 80 columns]"
      ],
      "text/html": [
       "<div>\n",
       "<style scoped>\n",
       "    .dataframe tbody tr th:only-of-type {\n",
       "        vertical-align: middle;\n",
       "    }\n",
       "\n",
       "    .dataframe tbody tr th {\n",
       "        vertical-align: top;\n",
       "    }\n",
       "\n",
       "    .dataframe thead th {\n",
       "        text-align: right;\n",
       "    }\n",
       "</style>\n",
       "<table border=\"1\" class=\"dataframe\">\n",
       "  <thead>\n",
       "    <tr style=\"text-align: right;\">\n",
       "      <th></th>\n",
       "      <th>Destination Port</th>\n",
       "      <th>Flow Duration</th>\n",
       "      <th>Total Fwd Packets</th>\n",
       "      <th>Total Backward Packets</th>\n",
       "      <th>Total Length of Fwd Packets</th>\n",
       "      <th>Total Length of Bwd Packets</th>\n",
       "      <th>Fwd Packet Length Max</th>\n",
       "      <th>Fwd Packet Length Min</th>\n",
       "      <th>Fwd Packet Length Mean</th>\n",
       "      <th>Fwd Packet Length Std</th>\n",
       "      <th>...</th>\n",
       "      <th>Active Mean</th>\n",
       "      <th>Active Std</th>\n",
       "      <th>Active Max</th>\n",
       "      <th>Active Min</th>\n",
       "      <th>Idle Mean</th>\n",
       "      <th>Idle Std</th>\n",
       "      <th>Idle Max</th>\n",
       "      <th>Idle Min</th>\n",
       "      <th>Label</th>\n",
       "      <th>klabel</th>\n",
       "    </tr>\n",
       "  </thead>\n",
       "  <tbody>\n",
       "    <tr>\n",
       "      <th>995217</th>\n",
       "      <td>-0.438561</td>\n",
       "      <td>-0.438648</td>\n",
       "      <td>-0.011153</td>\n",
       "      <td>-0.009418</td>\n",
       "      <td>-0.050262</td>\n",
       "      <td>-0.007065</td>\n",
       "      <td>-0.223931</td>\n",
       "      <td>0.468788</td>\n",
       "      <td>-0.060196</td>\n",
       "      <td>-0.245069</td>\n",
       "      <td>...</td>\n",
       "      <td>-0.125734</td>\n",
       "      <td>-0.104565</td>\n",
       "      <td>-0.149326</td>\n",
       "      <td>-0.101016</td>\n",
       "      <td>-0.351926</td>\n",
       "      <td>-0.10946</td>\n",
       "      <td>-0.356868</td>\n",
       "      <td>-0.338993</td>\n",
       "      <td>0</td>\n",
       "      <td>0</td>\n",
       "    </tr>\n",
       "    <tr>\n",
       "      <th>949756</th>\n",
       "      <td>-0.438561</td>\n",
       "      <td>-0.438408</td>\n",
       "      <td>-0.011153</td>\n",
       "      <td>-0.009418</td>\n",
       "      <td>-0.050062</td>\n",
       "      <td>-0.007064</td>\n",
       "      <td>-0.221142</td>\n",
       "      <td>0.501934</td>\n",
       "      <td>-0.049449</td>\n",
       "      <td>-0.245069</td>\n",
       "      <td>...</td>\n",
       "      <td>-0.125734</td>\n",
       "      <td>-0.104565</td>\n",
       "      <td>-0.149326</td>\n",
       "      <td>-0.101016</td>\n",
       "      <td>-0.351926</td>\n",
       "      <td>-0.10946</td>\n",
       "      <td>-0.356868</td>\n",
       "      <td>-0.338993</td>\n",
       "      <td>0</td>\n",
       "      <td>0</td>\n",
       "    </tr>\n",
       "    <tr>\n",
       "      <th>2470630</th>\n",
       "      <td>-0.438561</td>\n",
       "      <td>-0.436479</td>\n",
       "      <td>-0.011153</td>\n",
       "      <td>-0.009418</td>\n",
       "      <td>-0.050262</td>\n",
       "      <td>-0.007066</td>\n",
       "      <td>-0.223931</td>\n",
       "      <td>0.468788</td>\n",
       "      <td>-0.060196</td>\n",
       "      <td>-0.245069</td>\n",
       "      <td>...</td>\n",
       "      <td>-0.125734</td>\n",
       "      <td>-0.104565</td>\n",
       "      <td>-0.149326</td>\n",
       "      <td>-0.101016</td>\n",
       "      <td>-0.351926</td>\n",
       "      <td>-0.10946</td>\n",
       "      <td>-0.356868</td>\n",
       "      <td>-0.338993</td>\n",
       "      <td>0</td>\n",
       "      <td>0</td>\n",
       "    </tr>\n",
       "    <tr>\n",
       "      <th>512478</th>\n",
       "      <td>-0.438561</td>\n",
       "      <td>-0.438430</td>\n",
       "      <td>-0.011153</td>\n",
       "      <td>-0.009418</td>\n",
       "      <td>-0.050062</td>\n",
       "      <td>-0.007064</td>\n",
       "      <td>-0.221142</td>\n",
       "      <td>0.501934</td>\n",
       "      <td>-0.049449</td>\n",
       "      <td>-0.245069</td>\n",
       "      <td>...</td>\n",
       "      <td>-0.125734</td>\n",
       "      <td>-0.104565</td>\n",
       "      <td>-0.149326</td>\n",
       "      <td>-0.101016</td>\n",
       "      <td>-0.351926</td>\n",
       "      <td>-0.10946</td>\n",
       "      <td>-0.356868</td>\n",
       "      <td>-0.338993</td>\n",
       "      <td>0</td>\n",
       "      <td>0</td>\n",
       "    </tr>\n",
       "    <tr>\n",
       "      <th>784725</th>\n",
       "      <td>-0.438561</td>\n",
       "      <td>-0.437335</td>\n",
       "      <td>-0.009819</td>\n",
       "      <td>-0.008416</td>\n",
       "      <td>-0.045760</td>\n",
       "      <td>-0.006988</td>\n",
       "      <td>-0.225325</td>\n",
       "      <td>0.452215</td>\n",
       "      <td>-0.065570</td>\n",
       "      <td>-0.245069</td>\n",
       "      <td>...</td>\n",
       "      <td>-0.125734</td>\n",
       "      <td>-0.104565</td>\n",
       "      <td>-0.149326</td>\n",
       "      <td>-0.101016</td>\n",
       "      <td>-0.351926</td>\n",
       "      <td>-0.10946</td>\n",
       "      <td>-0.356868</td>\n",
       "      <td>-0.338993</td>\n",
       "      <td>0</td>\n",
       "      <td>0</td>\n",
       "    </tr>\n",
       "    <tr>\n",
       "      <th>...</th>\n",
       "      <td>...</td>\n",
       "      <td>...</td>\n",
       "      <td>...</td>\n",
       "      <td>...</td>\n",
       "      <td>...</td>\n",
       "      <td>...</td>\n",
       "      <td>...</td>\n",
       "      <td>...</td>\n",
       "      <td>...</td>\n",
       "      <td>...</td>\n",
       "      <td>...</td>\n",
       "      <td>...</td>\n",
       "      <td>...</td>\n",
       "      <td>...</td>\n",
       "      <td>...</td>\n",
       "      <td>...</td>\n",
       "      <td>...</td>\n",
       "      <td>...</td>\n",
       "      <td>...</td>\n",
       "      <td>...</td>\n",
       "      <td>...</td>\n",
       "    </tr>\n",
       "    <tr>\n",
       "      <th>1518644</th>\n",
       "      <td>2.728862</td>\n",
       "      <td>-0.439338</td>\n",
       "      <td>-0.008485</td>\n",
       "      <td>-0.010421</td>\n",
       "      <td>-0.051863</td>\n",
       "      <td>-0.007142</td>\n",
       "      <td>-0.246240</td>\n",
       "      <td>-0.310140</td>\n",
       "      <td>-0.257232</td>\n",
       "      <td>-0.181418</td>\n",
       "      <td>...</td>\n",
       "      <td>-0.125734</td>\n",
       "      <td>-0.104565</td>\n",
       "      <td>-0.149326</td>\n",
       "      <td>-0.101016</td>\n",
       "      <td>-0.351926</td>\n",
       "      <td>-0.10946</td>\n",
       "      <td>-0.356868</td>\n",
       "      <td>-0.338993</td>\n",
       "      <td>0</td>\n",
       "      <td>999</td>\n",
       "    </tr>\n",
       "    <tr>\n",
       "      <th>1891634</th>\n",
       "      <td>2.696210</td>\n",
       "      <td>-0.439345</td>\n",
       "      <td>-0.008485</td>\n",
       "      <td>-0.009418</td>\n",
       "      <td>-0.051863</td>\n",
       "      <td>-0.007142</td>\n",
       "      <td>-0.246240</td>\n",
       "      <td>-0.310140</td>\n",
       "      <td>-0.257232</td>\n",
       "      <td>-0.181418</td>\n",
       "      <td>...</td>\n",
       "      <td>-0.125734</td>\n",
       "      <td>-0.104565</td>\n",
       "      <td>-0.149326</td>\n",
       "      <td>-0.101016</td>\n",
       "      <td>-0.351926</td>\n",
       "      <td>-0.10946</td>\n",
       "      <td>-0.356868</td>\n",
       "      <td>-0.338993</td>\n",
       "      <td>0</td>\n",
       "      <td>999</td>\n",
       "    </tr>\n",
       "    <tr>\n",
       "      <th>1795518</th>\n",
       "      <td>2.986689</td>\n",
       "      <td>-0.439335</td>\n",
       "      <td>-0.009819</td>\n",
       "      <td>-0.010421</td>\n",
       "      <td>-0.054965</td>\n",
       "      <td>-0.007142</td>\n",
       "      <td>-0.289465</td>\n",
       "      <td>-0.310140</td>\n",
       "      <td>-0.312760</td>\n",
       "      <td>-0.245069</td>\n",
       "      <td>...</td>\n",
       "      <td>-0.125734</td>\n",
       "      <td>-0.104565</td>\n",
       "      <td>-0.149326</td>\n",
       "      <td>-0.101016</td>\n",
       "      <td>-0.351926</td>\n",
       "      <td>-0.10946</td>\n",
       "      <td>-0.356868</td>\n",
       "      <td>-0.338993</td>\n",
       "      <td>0</td>\n",
       "      <td>999</td>\n",
       "    </tr>\n",
       "    <tr>\n",
       "      <th>1269143</th>\n",
       "      <td>2.872433</td>\n",
       "      <td>-0.439336</td>\n",
       "      <td>-0.009819</td>\n",
       "      <td>-0.010421</td>\n",
       "      <td>-0.054965</td>\n",
       "      <td>-0.007142</td>\n",
       "      <td>-0.289465</td>\n",
       "      <td>-0.310140</td>\n",
       "      <td>-0.312760</td>\n",
       "      <td>-0.245069</td>\n",
       "      <td>...</td>\n",
       "      <td>-0.125734</td>\n",
       "      <td>-0.104565</td>\n",
       "      <td>-0.149326</td>\n",
       "      <td>-0.101016</td>\n",
       "      <td>-0.351926</td>\n",
       "      <td>-0.10946</td>\n",
       "      <td>-0.356868</td>\n",
       "      <td>-0.338993</td>\n",
       "      <td>0</td>\n",
       "      <td>999</td>\n",
       "    </tr>\n",
       "    <tr>\n",
       "      <th>1783485</th>\n",
       "      <td>2.964210</td>\n",
       "      <td>-0.438754</td>\n",
       "      <td>-0.008485</td>\n",
       "      <td>-0.009418</td>\n",
       "      <td>-0.051163</td>\n",
       "      <td>-0.007142</td>\n",
       "      <td>-0.236480</td>\n",
       "      <td>-0.310140</td>\n",
       "      <td>-0.244693</td>\n",
       "      <td>-0.167045</td>\n",
       "      <td>...</td>\n",
       "      <td>-0.125734</td>\n",
       "      <td>-0.104565</td>\n",
       "      <td>-0.149326</td>\n",
       "      <td>-0.101016</td>\n",
       "      <td>-0.351926</td>\n",
       "      <td>-0.10946</td>\n",
       "      <td>-0.356868</td>\n",
       "      <td>-0.338993</td>\n",
       "      <td>0</td>\n",
       "      <td>999</td>\n",
       "    </tr>\n",
       "  </tbody>\n",
       "</table>\n",
       "<p>22627 rows × 80 columns</p>\n",
       "</div>"
      ]
     },
     "execution_count": 219,
     "metadata": {},
     "output_type": "execute_result"
    }
   ],
   "execution_count": 219
  },
  {
   "cell_type": "code",
   "metadata": {
    "ExecuteTime": {
     "end_time": "2024-08-26T09:26:49.295933Z",
     "start_time": "2024-08-26T09:26:49.290706Z"
    }
   },
   "source": [
    "result = result.drop(['klabel'],axis=1)\n",
    "# result = pd.concat([result, df_minor], ignore_index=True)"
   ],
   "outputs": [],
   "execution_count": 220
  },
  {
   "metadata": {
    "ExecuteTime": {
     "end_time": "2024-08-26T09:26:49.301244Z",
     "start_time": "2024-08-26T09:26:49.296492Z"
    }
   },
   "cell_type": "code",
   "source": "result = pd.concat([result, df_minor], ignore_index=True)",
   "outputs": [],
   "execution_count": 221
  },
  {
   "cell_type": "code",
   "metadata": {
    "ExecuteTime": {
     "end_time": "2024-08-26T09:26:50.411663Z",
     "start_time": "2024-08-26T09:26:49.301798Z"
    }
   },
   "source": [
    "result.to_csv('./data/CICIDS2017_sample_km.csv',index=0)"
   ],
   "outputs": [],
   "execution_count": 222
  },
  {
   "cell_type": "markdown",
   "metadata": {},
   "source": [
    "### split train set and test set"
   ]
  },
  {
   "cell_type": "code",
   "metadata": {
    "ExecuteTime": {
     "end_time": "2024-08-26T09:26:50.571307Z",
     "start_time": "2024-08-26T09:26:50.412378Z"
    }
   },
   "source": [
    "# Read the sampled dataset\n",
    "df=pd.read_csv('./data/CICIDS2017_sample_km.csv')"
   ],
   "outputs": [],
   "execution_count": 223
  },
  {
   "cell_type": "code",
   "metadata": {
    "ExecuteTime": {
     "end_time": "2024-08-26T09:26:50.619226Z",
     "start_time": "2024-08-26T09:26:50.572059Z"
    }
   },
   "source": [
    "X = df.drop(['Label'],axis=1).values\n",
    "y = df.iloc[:, -1].values.reshape(-1,1)\n",
    "y=np.ravel(y)"
   ],
   "outputs": [],
   "execution_count": 224
  },
  {
   "cell_type": "code",
   "metadata": {
    "collapsed": true,
    "ExecuteTime": {
     "end_time": "2024-08-26T09:26:50.632369Z",
     "start_time": "2024-08-26T09:26:50.620244Z"
    }
   },
   "source": [
    "X_train, X_test, y_train, y_test = train_test_split(X,y, train_size = 0.8, test_size = 0.2, random_state = 0,stratify = y)"
   ],
   "outputs": [],
   "execution_count": 225
  },
  {
   "cell_type": "markdown",
   "metadata": {},
   "source": [
    "## Feature engineering"
   ]
  },
  {
   "cell_type": "markdown",
   "metadata": {},
   "source": [
    "### Feature selection by information gain"
   ]
  },
  {
   "cell_type": "code",
   "metadata": {
    "collapsed": true,
    "ExecuteTime": {
     "end_time": "2024-08-26T09:26:53.331835Z",
     "start_time": "2024-08-26T09:26:50.636100Z"
    }
   },
   "source": [
    "from sklearn.feature_selection import mutual_info_classif\n",
    "importances = mutual_info_classif(X_train, y_train)"
   ],
   "outputs": [],
   "execution_count": 226
  },
  {
   "cell_type": "code",
   "metadata": {
    "ExecuteTime": {
     "end_time": "2024-08-26T09:26:53.334397Z",
     "start_time": "2024-08-26T09:26:53.332432Z"
    }
   },
   "source": [
    "# calculate the sum of importance scores\n",
    "f_list = sorted(zip(map(lambda x: round(x, 4), importances), features), reverse=True)\n",
    "Sum = 0\n",
    "fs = []\n",
    "for i in range(0, len(f_list)):\n",
    "    Sum = Sum + f_list[i][0]\n",
    "    fs.append(f_list[i][1])"
   ],
   "outputs": [],
   "execution_count": 227
  },
  {
   "cell_type": "code",
   "metadata": {
    "ExecuteTime": {
     "end_time": "2024-08-26T09:26:53.336967Z",
     "start_time": "2024-08-26T09:26:53.334966Z"
    }
   },
   "source": [
    "# select the important features from top to bottom until the accumulated importance reaches 90%\n",
    "f_list2 = sorted(zip(map(lambda x: round(x, 4), importances/Sum), features), reverse=True)\n",
    "Sum2 = 0\n",
    "fs = []\n",
    "for i in range(0, len(f_list2)):\n",
    "    Sum2 = Sum2 + f_list2[i][0]\n",
    "    fs.append(f_list2[i][1])\n",
    "    if Sum2>=0.9:\n",
    "        break        "
   ],
   "outputs": [],
   "execution_count": 228
  },
  {
   "cell_type": "code",
   "metadata": {
    "collapsed": true,
    "ExecuteTime": {
     "end_time": "2024-08-26T09:26:53.339721Z",
     "start_time": "2024-08-26T09:26:53.337474Z"
    }
   },
   "source": [
    "X_fs = df[fs].values"
   ],
   "outputs": [],
   "execution_count": 229
  },
  {
   "cell_type": "code",
   "metadata": {
    "ExecuteTime": {
     "end_time": "2024-08-26T09:26:53.341997Z",
     "start_time": "2024-08-26T09:26:53.340269Z"
    }
   },
   "source": [
    "X_fs.shape"
   ],
   "outputs": [
    {
     "data": {
      "text/plain": [
       "(26809, 45)"
      ]
     },
     "execution_count": 230,
     "metadata": {},
     "output_type": "execute_result"
    }
   ],
   "execution_count": 230
  },
  {
   "cell_type": "markdown",
   "metadata": {},
   "source": [
    "### Feature selection by Fast Correlation Based Filter (FCBF)\n",
    "\n",
    "The module is imported from the GitHub repo: https://github.com/SantiagoEG/FCBF_module"
   ]
  },
  {
   "metadata": {
    "ExecuteTime": {
     "end_time": "2024-08-26T09:26:53.353631Z",
     "start_time": "2024-08-26T09:26:53.342562Z"
    }
   },
   "cell_type": "code",
   "source": [
    "# -*- coding: utf-8 -*-\n",
    "import numpy as np\n",
    "\n",
    "\n",
    "def count_vals(x):\n",
    "    vals = np.unique(x)\n",
    "    occ = np.zeros(shape=vals.shape)\n",
    "    for i in range(vals.size):\n",
    "        occ[i] = np.sum(x == vals[i])\n",
    "    return occ\n",
    "\n",
    "\n",
    "def entropy(x):\n",
    "    n = float(x.shape[0])\n",
    "    ocurrence = count_vals(x)\n",
    "    px = ocurrence / n\n",
    "    return -1 * np.sum(px * np.log2(px))\n",
    "\n",
    "\n",
    "def symmetricalUncertain(x, y):\n",
    "    n = float(y.shape[0])\n",
    "    vals = np.unique(y)\n",
    "    # Computing Entropy for the feature x. \n",
    "    Hx = entropy(x)\n",
    "    # Computing Entropy for the feature y.\n",
    "    Hy = entropy(y)\n",
    "    #Computing Joint entropy between x and y.\n",
    "    partial = np.zeros(shape=(vals.shape[0]))\n",
    "    for i in range(vals.shape[0]):\n",
    "        partial[i] = entropy(x[y == vals[i]])\n",
    "\n",
    "    partial[np.isnan(partial) == 1] = 0\n",
    "    py = count_vals(y).astype(dtype='float64') / n\n",
    "    Hxy = np.sum(py[py > 0] * partial)\n",
    "    IG = Hx - Hxy\n",
    "    return 2 * IG / (Hx + Hy)\n",
    "\n",
    "\n",
    "def suGroup(x, n):\n",
    "    m = x.shape[0]\n",
    "    x = np.reshape(x, (n, m / n)).T\n",
    "    m = x.shape[1]\n",
    "    SU_matrix = np.zeros(shape=(m, m))\n",
    "    for j in range(m - 1):\n",
    "        x2 = x[:, j + 1::]\n",
    "        y = x[:, j]\n",
    "        temp = np.apply_along_axis(symmetricalUncertain, 0, x2, y)\n",
    "        for k in range(temp.shape[0]):\n",
    "            SU_matrix[j, j + 1::] = temp\n",
    "            SU_matrix[j + 1::, j] = temp\n",
    "\n",
    "    return 1 / float(m - 1) * np.sum(SU_matrix, axis=1)\n",
    "\n",
    "\n",
    "def isprime(a):\n",
    "    return all(a % i for i in xrange(2, a))\n",
    "\n",
    "\n",
    "\"\"\"\n",
    "get\n",
    "\"\"\"\n",
    "\n",
    "\n",
    "def get_i(a):\n",
    "    if isprime(a):\n",
    "        a -= 1\n",
    "    return filter(lambda x: a % x == 0, range(2, a))\n",
    "\n",
    "\n",
    "\"\"\"\n",
    "FCBF - Fast Correlation Based Filter\n",
    "\n",
    "L. Yu and H. Liu. Feature Selection for High‐Dimensional Data: A Fast Correlation‐Based Filter Solution. \n",
    "In Proceedings of The Twentieth International Conference on Machine Leaning (ICML‐03), 856‐863.\n",
    "Washington, D.C., August 21‐24, 2003.\n",
    "\"\"\"\n",
    "\n",
    "\n",
    "class FCBF:\n",
    "    idx_sel = []\n",
    "\n",
    "    def __init__(self, th=0.01):\n",
    "        '''\n",
    "        Parameters\n",
    "        ---------------\n",
    "            th = The initial threshold \n",
    "        '''\n",
    "        self.th = th\n",
    "\n",
    "    def fit(self, x, y):\n",
    "        '''\n",
    "        This function executes FCBF algorithm and saves indexes \n",
    "        of selected features in self.idx_sel\n",
    "        \n",
    "        Parameters\n",
    "        ---------------\n",
    "            x = dataset  [NxM] \n",
    "            y = label    [Nx1]\n",
    "        '''\n",
    "        self.idx_sel = []\n",
    "        \"\"\"\n",
    "        First Stage: Computing the SU for each feature with the response.\n",
    "        \"\"\"\n",
    "        SU_vec = np.apply_along_axis(symmetricalUncertain, 0, x, y)\n",
    "        SU_list = SU_vec[SU_vec > self.th]\n",
    "        SU_list[::-1].sort()\n",
    "\n",
    "        m = x[:, SU_vec > self.th].shape\n",
    "        x_sorted = np.zeros(shape=m)\n",
    "\n",
    "        for i in range(m[1]):\n",
    "            ind = np.argmax(SU_vec)\n",
    "            SU_vec[ind] = 0\n",
    "            x_sorted[:, i] = x[:, ind].copy()\n",
    "            self.idx_sel.append(ind)\n",
    "\n",
    "        \"\"\"\n",
    "        Second Stage: Identify relationships between feature to remove redundancy.\n",
    "        \"\"\"\n",
    "        j = 0\n",
    "        while True:\n",
    "            \"\"\"\n",
    "            Stopping Criteria:The search finishes\n",
    "            \"\"\"\n",
    "            if j >= x_sorted.shape[1]: break\n",
    "            y = x_sorted[:, j].copy()\n",
    "            x_list = x_sorted[:, j + 1:].copy()\n",
    "            if x_list.shape[1] == 0: break\n",
    "\n",
    "            SU_list_2 = SU_list[j + 1:]\n",
    "            SU_x = np.apply_along_axis(symmetricalUncertain, 0,\n",
    "                                       x_list, y)\n",
    "\n",
    "            comp_SU = SU_x >= SU_list_2\n",
    "            to_remove = np.where(comp_SU)[0] + j + 1\n",
    "            if to_remove.size > 0:\n",
    "                x_sorted = np.delete(x_sorted, to_remove, axis=1)\n",
    "                SU_list = np.delete(SU_list, to_remove, axis=0)\n",
    "                to_remove.sort()\n",
    "                for r in reversed(to_remove):\n",
    "                    self.idx_sel.remove(self.idx_sel[r])\n",
    "            j = j + 1\n",
    "\n",
    "    def fit_transform(self, x, y):\n",
    "        '''\n",
    "        This function fits the feature selection \n",
    "        algorithm and returns the resulting subset.\n",
    "        \n",
    "        Parameters\n",
    "        ---------------\n",
    "            x = dataset  [NxM] \n",
    "            y = label    [Nx1]\n",
    "        '''\n",
    "        self.fit(x, y)\n",
    "        return x[:, self.idx_sel]\n",
    "\n",
    "    def transform(self, x):\n",
    "        '''\n",
    "        This function applies the selection\n",
    "        to the vector x.\n",
    "        \n",
    "        Parameters\n",
    "        ---------------\n",
    "            x = dataset  [NxM] \n",
    "        '''\n",
    "        return x[:, self.idx_sel]\n",
    "\n",
    "\n",
    "\"\"\"\n",
    "FCBF# - Fast Correlation Based Filter \n",
    "B. Senliol, G. Gulgezen, et al. Fast Correlation Based Filter (FCBF) with a Different Search Strategy. \n",
    "In Computer and Information Sciences (ISCIS ‘08) 23rd International Symposium on, pages 1‐4. \n",
    "Istanbul, October 27‐29, 2008.\n",
    "\"\"\"\n",
    "\n",
    "\n",
    "class FCBFK(FCBF):\n",
    "    idx_sel = []\n",
    "\n",
    "    def __init__(self, k=10):\n",
    "        '''\n",
    "        Parameters\n",
    "        ---------------\n",
    "            k = Number of features to include in the\n",
    "            subset.\n",
    "        '''\n",
    "        self.k = k\n",
    "\n",
    "    def fit(self, x, y):\n",
    "        '''\n",
    "        This function executes FCBFK algorithm and saves indexes \n",
    "        of selected features in self.idx_sel\n",
    "        \n",
    "        Parameters\n",
    "        ---------------\n",
    "            x = dataset  [NxM] \n",
    "            y = label    [Nx1]\n",
    "        '''\n",
    "        self.idx_sel = []\n",
    "        \"\"\"\n",
    "        First Stage: Computing the SU for each feature with the response.\n",
    "        \"\"\"\n",
    "        SU_vec = np.apply_along_axis(symmetricalUncertain, 0, x, y)\n",
    "\n",
    "        SU_list = SU_vec[SU_vec > 0]\n",
    "        SU_list[::-1].sort()\n",
    "\n",
    "        m = x[:, SU_vec > 0].shape\n",
    "        x_sorted = np.zeros(shape=m)\n",
    "\n",
    "        for i in range(m[1]):\n",
    "            ind = np.argmax(SU_vec)\n",
    "            SU_vec[ind] = 0\n",
    "            x_sorted[:, i] = x[:, ind].copy()\n",
    "            self.idx_sel.append(ind)\n",
    "\n",
    "        \"\"\"\n",
    "        Second Stage: Identify relationships between features to remove redundancy with stopping \n",
    "        criteria (features in x_best == k).\n",
    "        \"\"\"\n",
    "        j = 0\n",
    "        while True:\n",
    "            y = x_sorted[:, j].copy()\n",
    "            SU_list_2 = SU_list[j + 1:]\n",
    "            x_list = x_sorted[:, j + 1:].copy()\n",
    "\n",
    "            \"\"\"\n",
    "            Stopping Criteria:The search finishes\n",
    "            \"\"\"\n",
    "            if x_list.shape[1] == 0: break\n",
    "\n",
    "            SU_x = np.apply_along_axis(symmetricalUncertain, 0,\n",
    "                                       x_list, y)\n",
    "\n",
    "            comp_SU = SU_x >= SU_list_2\n",
    "            to_remove = np.where(comp_SU)[0] + j + 1\n",
    "            if to_remove.size > 0 and x.shape[1] > self.k:\n",
    "\n",
    "                for i in reversed(to_remove):\n",
    "\n",
    "                    x_sorted = np.delete(x_sorted, i, axis=1)\n",
    "                    SU_list = np.delete(SU_list, i, axis=0)\n",
    "                    self.idx_sel.remove(self.idx_sel[i])\n",
    "                    if x_sorted.shape[1] == self.k: break\n",
    "\n",
    "            if x_list.shape[1] == 1 or x_sorted.shape[1] == self.k:\n",
    "                break\n",
    "            j = j + 1\n",
    "\n",
    "        if len(self.idx_sel) > self.k:\n",
    "            self.idx_sel = self.idx_sel[:self.k]\n",
    "\n",
    "\n",
    "\"\"\"\n",
    "FCBFiP - Fast Correlation Based Filter in Pieces\n",
    "\"\"\"\n",
    "\n",
    "\n",
    "class FCBFiP(FCBF):\n",
    "    idx_sel = []\n",
    "\n",
    "    def __init__(self, k=10, npieces=2):\n",
    "        '''\n",
    "        Parameters\n",
    "        ---------------\n",
    "            k = Number of features to include in the\n",
    "            subset.\n",
    "            npieces = Number of pieces to divide the \n",
    "            feature space.\n",
    "        '''\n",
    "        self.k = k\n",
    "        self.npieces = npieces\n",
    "\n",
    "    def fit(self, x, y):\n",
    "        '''\n",
    "        This function executes FCBF algorithm and saves indexes \n",
    "        of selected features in self.idx_sel\n",
    "        \n",
    "        Parameters\n",
    "        ---------------\n",
    "            x = dataset  [NxM] \n",
    "            y = label    [Nx1]\n",
    "        '''\n",
    "\n",
    "        \"\"\"\n",
    "        First Stage: Computing the SU for each feature with the response. We sort the \n",
    "        features. When we have a prime number of features we remove the last one from the\n",
    "        sorted features list.\n",
    "        \"\"\"\n",
    "        m = x.shape\n",
    "        nfeaturesPieces = int(m[1] / float(self.npieces))\n",
    "        SU_vec = np.apply_along_axis(symmetricalUncertain, 0, x, y)\n",
    "\n",
    "        x_sorted = np.zeros(shape=m, dtype='float64')\n",
    "        idx_sorted = np.zeros(shape=m[1], dtype='int64')\n",
    "        for i in range(m[1]):\n",
    "            ind = np.argmax(SU_vec)\n",
    "            SU_vec[ind] = -1\n",
    "            idx_sorted[i] = ind\n",
    "            x_sorted[:, i] = x[:, ind].copy()\n",
    "\n",
    "        if isprime(m[1]):\n",
    "            x_sorted = np.delete(x_sorted, m[1] - 1, axis=1)\n",
    "            ind_prime = idx_sorted[m[1] - 1]\n",
    "            idx_sorted = np.delete(idx_sorted, m[1] - 1)\n",
    "            #m = x_sorted.shape\n",
    "        \"\"\"\n",
    "        Second Stage: Identify relationships between features into its vecinity\n",
    "        to remove redundancy with stopping criteria (features in x_best == k).\n",
    "        \"\"\"\n",
    "\n",
    "        x_2d = np.reshape(x_sorted.T, (self.npieces, nfeaturesPieces * m[0])).T\n",
    "\n",
    "        SU_x = np.apply_along_axis(suGroup, 0, x_2d, nfeaturesPieces)\n",
    "        SU_x = np.reshape(SU_x.T, (self.npieces * nfeaturesPieces,))\n",
    "        idx_sorted2 = np.zeros(shape=idx_sorted.shape, dtype='int64')\n",
    "        SU_x[np.isnan(SU_x)] = 1\n",
    "\n",
    "        for i in range(idx_sorted.shape[0]):\n",
    "            ind = np.argmin(SU_x)\n",
    "            idx_sorted2[i] = idx_sorted[ind]\n",
    "            SU_x[ind] = 10\n",
    "\n",
    "        \"\"\"\n",
    "        Scoring step\n",
    "        \"\"\"\n",
    "        self.scores = np.zeros(shape=m[1], dtype='int64')\n",
    "\n",
    "        for i in range(m[1]):\n",
    "            if i in idx_sorted:\n",
    "                self.scores[i] = np.argwhere(i == idx_sorted) + np.argwhere(i == idx_sorted2)\n",
    "        if isprime(m[1]):\n",
    "            self.scores[ind_prime] = 2 * m[1]\n",
    "        self.set_k(self.k)\n",
    "\n",
    "    def set_k(self, k):\n",
    "        self.k = k\n",
    "        scores_temp = -1 * self.scores\n",
    "\n",
    "        self.idx_sel = np.zeros(shape=self.k, dtype='int64')\n",
    "        for i in range(self.k):\n",
    "            ind = np.argmax(scores_temp)\n",
    "            scores_temp[ind] = -100000000\n",
    "            self.idx_sel[i] = ind\n"
   ],
   "outputs": [],
   "execution_count": 231
  },
  {
   "cell_type": "code",
   "metadata": {
    "collapsed": true,
    "ExecuteTime": {
     "end_time": "2024-08-26T09:26:53.355627Z",
     "start_time": "2024-08-26T09:26:53.354289Z"
    }
   },
   "source": [
    "fcbf = FCBFK(k = 20)\n",
    "#fcbf.fit(X_fs, y)"
   ],
   "outputs": [],
   "execution_count": 232
  },
  {
   "cell_type": "code",
   "metadata": {
    "ExecuteTime": {
     "end_time": "2024-08-26T09:27:06.516544Z",
     "start_time": "2024-08-26T09:26:53.356162Z"
    }
   },
   "source": [
    "X_fss = fcbf.fit_transform(X_fs,y)"
   ],
   "outputs": [],
   "execution_count": 233
  },
  {
   "cell_type": "code",
   "metadata": {
    "ExecuteTime": {
     "end_time": "2024-08-26T09:27:06.519297Z",
     "start_time": "2024-08-26T09:27:06.517347Z"
    }
   },
   "source": [
    "X_fss.shape"
   ],
   "outputs": [
    {
     "data": {
      "text/plain": [
       "(26809, 20)"
      ]
     },
     "execution_count": 234,
     "metadata": {},
     "output_type": "execute_result"
    }
   ],
   "execution_count": 234
  },
  {
   "cell_type": "markdown",
   "metadata": {},
   "source": [
    "### Re-split train & test sets after feature selection"
   ]
  },
  {
   "cell_type": "code",
   "metadata": {
    "collapsed": true,
    "ExecuteTime": {
     "end_time": "2024-08-26T09:27:06.527720Z",
     "start_time": "2024-08-26T09:27:06.519890Z"
    }
   },
   "source": [
    "X_train, X_test, y_train, y_test = train_test_split(X_fss,y, train_size = 0.8, test_size = 0.2, random_state = 0,stratify = y)"
   ],
   "outputs": [],
   "execution_count": 235
  },
  {
   "cell_type": "code",
   "metadata": {
    "ExecuteTime": {
     "end_time": "2024-08-26T09:27:06.530121Z",
     "start_time": "2024-08-26T09:27:06.528348Z"
    }
   },
   "source": [
    "X_train.shape"
   ],
   "outputs": [
    {
     "data": {
      "text/plain": [
       "(21447, 20)"
      ]
     },
     "execution_count": 236,
     "metadata": {},
     "output_type": "execute_result"
    }
   ],
   "execution_count": 236
  },
  {
   "cell_type": "code",
   "metadata": {
    "ExecuteTime": {
     "end_time": "2024-08-26T09:27:06.532882Z",
     "start_time": "2024-08-26T09:27:06.530660Z"
    }
   },
   "source": [
    "pd.Series(y_train).value_counts()"
   ],
   "outputs": [
    {
     "data": {
      "text/plain": [
       "0    14580\n",
       "3     2409\n",
       "6     1744\n",
       "1     1573\n",
       "5     1023\n",
       "2       89\n",
       "4       29\n",
       "Name: count, dtype: int64"
      ]
     },
     "execution_count": 237,
     "metadata": {},
     "output_type": "execute_result"
    }
   ],
   "execution_count": 237
  },
  {
   "cell_type": "markdown",
   "metadata": {},
   "source": [
    "### SMOTE to solve class-imbalance"
   ]
  },
  {
   "cell_type": "code",
   "metadata": {
    "ExecuteTime": {
     "end_time": "2024-08-26T09:27:06.535062Z",
     "start_time": "2024-08-26T09:27:06.533488Z"
    }
   },
   "source": [
    "from imblearn.over_sampling import SMOTE\n",
    "smote=SMOTE(n_jobs=-1,sampling_strategy={2:1000,4:1000})"
   ],
   "outputs": [],
   "execution_count": 238
  },
  {
   "cell_type": "code",
   "metadata": {
    "collapsed": true,
    "ExecuteTime": {
     "end_time": "2024-08-26T09:27:06.540603Z",
     "start_time": "2024-08-26T09:27:06.535517Z"
    }
   },
   "source": [
    "X_train, y_train = smote.fit_resample(X_train, y_train)"
   ],
   "outputs": [],
   "execution_count": 239
  },
  {
   "cell_type": "code",
   "metadata": {
    "ExecuteTime": {
     "end_time": "2024-08-26T09:27:06.543673Z",
     "start_time": "2024-08-26T09:27:06.541265Z"
    }
   },
   "source": [
    "pd.Series(y_train).value_counts()"
   ],
   "outputs": [
    {
     "data": {
      "text/plain": [
       "0    14580\n",
       "3     2409\n",
       "6     1744\n",
       "1     1573\n",
       "5     1023\n",
       "4     1000\n",
       "2     1000\n",
       "Name: count, dtype: int64"
      ]
     },
     "execution_count": 240,
     "metadata": {},
     "output_type": "execute_result"
    }
   ],
   "execution_count": 240
  },
  {
   "cell_type": "markdown",
   "metadata": {},
   "source": [
    "## Machine learning model training"
   ]
  },
  {
   "cell_type": "markdown",
   "metadata": {},
   "source": [
    "### Training four base learners: decision tree, random forest, extra trees, XGBoost"
   ]
  },
  {
   "cell_type": "markdown",
   "metadata": {},
   "source": [
    "#### Apply XGBoost"
   ]
  },
  {
   "cell_type": "code",
   "metadata": {
    "ExecuteTime": {
     "end_time": "2024-08-26T09:27:06.794463Z",
     "start_time": "2024-08-26T09:27:06.544299Z"
    }
   },
   "source": [
    "xg = xgb.XGBClassifier(n_estimators = 10)\n",
    "xg.fit(X_train,y_train)\n",
    "xg_score=xg.score(X_test,y_test)\n",
    "y_predict=xg.predict(X_test)\n",
    "y_true=y_test\n",
    "print('Accuracy of XGBoost: '+ str(xg_score))\n",
    "precision,recall,fscore,none= precision_recall_fscore_support(y_true, y_predict, average='weighted') \n",
    "print('Precision of XGBoost: '+(str(precision)))\n",
    "print('Recall of XGBoost: '+(str(recall)))\n",
    "print('F1-score of XGBoost: '+(str(fscore)))\n",
    "print(classification_report(y_true,y_predict))\n",
    "cm=confusion_matrix(y_true,y_predict)\n",
    "f,ax=plt.subplots(figsize=(5,5))\n",
    "sns.heatmap(cm,annot=True,linewidth=0.5,linecolor=\"red\",fmt=\".0f\",ax=ax)\n",
    "plt.xlabel(\"y_pred\")\n",
    "plt.ylabel(\"y_true\")\n",
    "plt.show()"
   ],
   "outputs": [
    {
     "name": "stdout",
     "output_type": "stream",
     "text": [
      "Accuracy of XGBoost: 0.9934725848563969\n",
      "Precision of XGBoost: 0.9936450833324382\n",
      "Recall of XGBoost: 0.9934725848563969\n",
      "F1-score of XGBoost: 0.9935117308538883\n",
      "              precision    recall  f1-score   support\n",
      "\n",
      "           0       1.00      0.99      1.00      3645\n",
      "           1       0.99      1.00      0.99       393\n",
      "           2       0.96      1.00      0.98        23\n",
      "           3       0.99      1.00      0.99       602\n",
      "           4       0.78      1.00      0.88         7\n",
      "           5       1.00      0.99      1.00       256\n",
      "           6       0.97      1.00      0.98       436\n",
      "\n",
      "    accuracy                           0.99      5362\n",
      "   macro avg       0.95      1.00      0.97      5362\n",
      "weighted avg       0.99      0.99      0.99      5362\n",
      "\n"
     ]
    },
    {
     "data": {
      "text/plain": [
       "<Figure size 500x500 with 2 Axes>"
      ],
      "image/png": "[encoded data removed]"
     },
     "metadata": {},
     "output_type": "display_data"
    }
   ],
   "execution_count": 241
  },
  {
   "cell_type": "markdown",
   "metadata": {},
   "source": [
    "#### Hyperparameter optimization (HPO) of XGBoost using Bayesian optimization with tree-based Parzen estimator (BO-TPE)\n",
    "Based on the GitHub repo for HPO: https://github.com/LiYangHart/Hyperparameter-Optimization-of-Machine-Learning-Algorithms"
   ]
  },
  {
   "cell_type": "code",
   "metadata": {
    "ExecuteTime": {
     "end_time": "2024-08-26T09:27:23.952092Z",
     "start_time": "2024-08-26T09:27:06.795133Z"
    }
   },
   "source": [
    "from hyperopt import hp, fmin, tpe, STATUS_OK, Trials\n",
    "from sklearn.metrics import accuracy_score\n",
    "import xgboost as xgb\n",
    "\n",
    "# Objective function for Hyperopt\n",
    "def objective(params):\n",
    "    params = {\n",
    "        'n_estimators': int(params['n_estimators']),\n",
    "        'max_depth': int(params['max_depth']),\n",
    "        'learning_rate': abs(float(params['learning_rate'])),\n",
    "    }\n",
    "    clf = xgb.XGBClassifier(**params)\n",
    "    clf.fit(X_train, y_train)\n",
    "    y_pred = clf.predict(X_test)\n",
    "    score = accuracy_score(y_test, y_pred)\n",
    "\n",
    "    return {'loss': -score, 'status': STATUS_OK }\n",
    "\n",
    "# Hyperparameter search space\n",
    "space = {\n",
    "    'n_estimators': hp.quniform('n_estimators', 10, 100, 5),\n",
    "    'max_depth': hp.quniform('max_depth', 4, 100, 1),\n",
    "    'learning_rate': hp.normal('learning_rate', 0.01, 0.9),\n",
    "}\n",
    "\n",
    "# Running the optimization\n",
    "best = fmin(fn=objective,\n",
    "            space=space,\n",
    "            algo=tpe.suggest,\n",
    "            max_evals=20)\n",
    "\n",
    "# 출력된 best에는 최적의 하이퍼파라미터가 담겨 있습니다.\n",
    "print(\"XGBoost: Hyperopt estimated optimum {}\".format(best))\n"
   ],
   "outputs": [
    {
     "name": "stdout",
     "output_type": "stream",
     "text": [
      "100%|██████████| 20/20 [00:17<00:00,  1.17trial/s, best loss: -0.9972025363670273]\n",
      "XGBoost: Hyperopt estimated optimum {'learning_rate': np.float64(0.24868606684503988), 'max_depth': np.float64(66.0), 'n_estimators': np.float64(85.0)}\n"
     ]
    }
   ],
   "execution_count": 242
  },
  {
   "cell_type": "code",
   "metadata": {
    "ExecuteTime": {
     "end_time": "2024-08-26T09:27:25.391167Z",
     "start_time": "2024-08-26T09:27:23.952849Z"
    }
   },
   "source": [
    "xg = xgb.XGBClassifier(\n",
    "    learning_rate=abs(float(best['learning_rate'])),\n",
    "    n_estimators=int(best['n_estimators']),\n",
    "    max_depth=int(best['max_depth'])\n",
    ")\n",
    "\n",
    "# 모델 학습\n",
    "xg.fit(X_train, y_train)\n",
    "\n",
    "# 모델 예측 및 성능 평가\n",
    "xg_score = xg.score(X_test, y_test)\n",
    "y_predict = xg.predict(X_test)\n",
    "y_true = y_test\n",
    "\n",
    "# 평가 결과 출력\n",
    "print('Accuracy of XGBoost: ' + str(xg_score))\n",
    "precision, recall, fscore, _ = precision_recall_fscore_support(y_true, y_predict, average='weighted')\n",
    "print('Precision of XGBoost: ' + str(precision))\n",
    "print('Recall of XGBoost: ' + str(recall))\n",
    "print('F1-score of XGBoost: ' + str(fscore))\n",
    "print(classification_report(y_true, y_predict))\n",
    "\n",
    "# 혼동 행렬 시각화\n",
    "cm = confusion_matrix(y_true, y_predict)\n",
    "f, ax = plt.subplots(figsize=(5, 5))\n",
    "sns.heatmap(cm, annot=True, linewidths=0.5, linecolor=\"red\", fmt=\".0f\", ax=ax)\n",
    "plt.xlabel(\"y_pred\")\n",
    "plt.ylabel(\"y_true\")\n",
    "plt.show()\n"
   ],
   "outputs": [
    {
     "name": "stdout",
     "output_type": "stream",
     "text": [
      "Accuracy of XGBoost: 0.9972025363670273\n",
      "Precision of XGBoost: 0.9972184190556084\n",
      "Recall of XGBoost: 0.9972025363670273\n",
      "F1-score of XGBoost: 0.9972057516552961\n",
      "              precision    recall  f1-score   support\n",
      "\n",
      "           0       1.00      1.00      1.00      3645\n",
      "           1       0.99      1.00      0.99       393\n",
      "           2       1.00      1.00      1.00        23\n",
      "           3       1.00      1.00      1.00       602\n",
      "           4       1.00      1.00      1.00         7\n",
      "           5       1.00      1.00      1.00       256\n",
      "           6       0.99      1.00      0.99       436\n",
      "\n",
      "    accuracy                           1.00      5362\n",
      "   macro avg       1.00      1.00      1.00      5362\n",
      "weighted avg       1.00      1.00      1.00      5362\n",
      "\n"
     ]
    },
    {
     "data": {
      "text/plain": [
       "<Figure size 500x500 with 2 Axes>"
      ],
      "image/png": "[encoded data removed]"
     },
     "metadata": {},
     "output_type": "display_data"
    }
   ],
   "execution_count": 243
  },
  {
   "cell_type": "code",
   "metadata": {
    "ExecuteTime": {
     "end_time": "2024-08-26T09:27:25.433328Z",
     "start_time": "2024-08-26T09:27:25.391722Z"
    }
   },
   "source": [
    "xg_train=xg.predict(X_train)\n",
    "xg_test=xg.predict(X_test)"
   ],
   "outputs": [],
   "execution_count": 244
  },
  {
   "cell_type": "markdown",
   "metadata": {},
   "source": [
    "#### Apply RF"
   ]
  },
  {
   "cell_type": "code",
   "metadata": {
    "ExecuteTime": {
     "end_time": "2024-08-26T09:27:26.839106Z",
     "start_time": "2024-08-26T09:27:25.433987Z"
    }
   },
   "source": [
    "rf = RandomForestClassifier(random_state = 0)\n",
    "rf.fit(X_train,y_train) \n",
    "rf_score=rf.score(X_test,y_test)\n",
    "y_predict=rf.predict(X_test)\n",
    "y_true=y_test\n",
    "print('Accuracy of RF: '+ str(rf_score))\n",
    "precision,recall,fscore,none= precision_recall_fscore_support(y_true, y_predict, average='weighted') \n",
    "print('Precision of RF: '+(str(precision)))\n",
    "print('Recall of RF: '+(str(recall)))\n",
    "print('F1-score of RF: '+(str(fscore)))\n",
    "print(classification_report(y_true,y_predict))\n",
    "cm=confusion_matrix(y_true,y_predict)\n",
    "f,ax=plt.subplots(figsize=(5,5))\n",
    "sns.heatmap(cm,annot=True,linewidth=0.5,linecolor=\"red\",fmt=\".0f\",ax=ax)\n",
    "plt.xlabel(\"y_pred\")\n",
    "plt.ylabel(\"y_true\")\n",
    "plt.show()"
   ],
   "outputs": [
    {
     "name": "stdout",
     "output_type": "stream",
     "text": [
      "Accuracy of RF: 0.9968295412159642\n",
      "Precision of RF: 0.9968339445103337\n",
      "Recall of RF: 0.9968295412159642\n",
      "F1-score of RF: 0.996830389175207\n",
      "              precision    recall  f1-score   support\n",
      "\n",
      "           0       1.00      1.00      1.00      3645\n",
      "           1       0.99      1.00      1.00       393\n",
      "           2       1.00      1.00      1.00        23\n",
      "           3       1.00      1.00      1.00       602\n",
      "           4       1.00      1.00      1.00         7\n",
      "           5       0.99      0.99      0.99       256\n",
      "           6       0.99      0.99      0.99       436\n",
      "\n",
      "    accuracy                           1.00      5362\n",
      "   macro avg       1.00      1.00      1.00      5362\n",
      "weighted avg       1.00      1.00      1.00      5362\n",
      "\n"
     ]
    },
    {
     "data": {
      "text/plain": [
       "<Figure size 500x500 with 2 Axes>"
      ],
      "image/png": "[encoded data removed]"
     },
     "metadata": {},
     "output_type": "display_data"
    }
   ],
   "execution_count": 245
  },
  {
   "cell_type": "markdown",
   "metadata": {},
   "source": [
    "#### Hyperparameter optimization (HPO) of random forest using Bayesian optimization with tree-based Parzen estimator (BO-TPE)\n",
    "Based on the GitHub repo for HPO: https://github.com/LiYangHart/Hyperparameter-Optimization-of-Machine-Learning-Algorithms"
   ]
  },
  {
   "cell_type": "code",
   "metadata": {
    "ExecuteTime": {
     "end_time": "2024-08-26T09:28:34.378290Z",
     "start_time": "2024-08-26T09:27:26.839776Z"
    }
   },
   "source": [
    "from hyperopt import hp, fmin, tpe, STATUS_OK, Trials\n",
    "from sklearn.ensemble import RandomForestClassifier\n",
    "from sklearn.metrics import accuracy_score, precision_recall_fscore_support, classification_report, confusion_matrix\n",
    "import seaborn as sns\n",
    "import matplotlib.pyplot as plt\n",
    "\n",
    "# Define the objective function\n",
    "def objective(params):\n",
    "    params = {\n",
    "        'n_estimators': int(params['n_estimators']),\n",
    "        'max_depth': int(params['max_depth']),\n",
    "        'max_features': int(params['max_features']),\n",
    "        'min_samples_split': int(params['min_samples_split']),\n",
    "        'min_samples_leaf': int(params['min_samples_leaf']),\n",
    "        'criterion': str(params['criterion'])\n",
    "    }\n",
    "    clf = RandomForestClassifier(**params)\n",
    "    clf.fit(X_train, y_train)\n",
    "    score = clf.score(X_test, y_test)\n",
    "\n",
    "    return {'loss': -score, 'status': STATUS_OK }\n",
    "\n",
    "# Define the hyperparameter configuration space\n",
    "space = {\n",
    "    'n_estimators': hp.quniform('n_estimators', 10, 200, 1),\n",
    "    'max_depth': hp.quniform('max_depth', 5, 50, 1),\n",
    "    'max_features': hp.quniform('max_features', 1, 20, 1),\n",
    "    'min_samples_split': hp.quniform('min_samples_split', 2, 11, 1),\n",
    "    'min_samples_leaf': hp.quniform('min_samples_leaf', 1, 11, 1),\n",
    "    'criterion': hp.choice('criterion', ['gini', 'entropy'])\n",
    "}\n",
    "\n",
    "# Running the optimization\n",
    "best = fmin(fn=objective,\n",
    "            space=space,\n",
    "            algo=tpe.suggest,\n",
    "            max_evals=20)\n",
    "\n",
    "# 최적화 결과 출력\n",
    "print(\"Random Forest: Hyperopt estimated optimum {}\".format(best))\n"
   ],
   "outputs": [
    {
     "name": "stdout",
     "output_type": "stream",
     "text": [
      "100%|██████████| 20/20 [01:07<00:00,  3.38s/trial, best loss: -0.9966430436404327]\n",
      "Random Forest: Hyperopt estimated optimum {'criterion': np.int64(1), 'max_depth': np.float64(20.0), 'max_features': np.float64(10.0), 'min_samples_leaf': np.float64(3.0), 'min_samples_split': np.float64(11.0), 'n_estimators': np.float64(85.0)}\n"
     ]
    }
   ],
   "execution_count": 246
  },
  {
   "cell_type": "code",
   "metadata": {
    "ExecuteTime": {
     "end_time": "2024-08-26T09:28:36.594438Z",
     "start_time": "2024-08-26T09:28:34.378863Z"
    }
   },
   "source": [
    "# 최적화된 하이퍼파라미터를 사용하여 RandomForestClassifier를 정의\n",
    "rf_hpo = RandomForestClassifier(\n",
    "    n_estimators=int(best['n_estimators']),\n",
    "    max_depth=int(best['max_depth']),\n",
    "    max_features=int(best['max_features']),\n",
    "    min_samples_split=int(best['min_samples_split']),\n",
    "    min_samples_leaf=int(best['min_samples_leaf']),\n",
    "    criterion=['gini', 'entropy'][best['criterion']]\n",
    ")\n",
    "\n",
    "# 모델 학습\n",
    "rf_hpo.fit(X_train, y_train)\n",
    "\n",
    "# 모델 예측 및 성능 평가\n",
    "rf_score = rf_hpo.score(X_test, y_test)\n",
    "y_predict = rf_hpo.predict(X_test)\n",
    "y_true = y_test\n",
    "\n",
    "# 평가 결과 출력\n",
    "print('Accuracy of RF: ' + str(rf_score))\n",
    "precision, recall, fscore, _ = precision_recall_fscore_support(y_true, y_predict, average='weighted')\n",
    "print('Precision of RF: ' + str(precision))\n",
    "print('Recall of RF: ' + str(recall))\n",
    "print('F1-score of RF: ' + str(fscore))\n",
    "print(classification_report(y_true, y_predict))\n",
    "\n",
    "# 혼동 행렬 시각화\n",
    "cm = confusion_matrix(y_true, y_predict)\n",
    "f, ax = plt.subplots(figsize=(5, 5))\n",
    "sns.heatmap(cm, annot=True, linewidths=0.5, linecolor=\"red\", fmt=\".0f\", ax=ax)\n",
    "plt.xlabel(\"y_pred\")\n",
    "plt.ylabel(\"y_true\")\n",
    "plt.show()\n"
   ],
   "outputs": [
    {
     "name": "stdout",
     "output_type": "stream",
     "text": [
      "Accuracy of RF: 0.9966430436404327\n",
      "Precision of RF: 0.9966997695984118\n",
      "Recall of RF: 0.9966430436404327\n",
      "F1-score of RF: 0.9966535808939547\n",
      "              precision    recall  f1-score   support\n",
      "\n",
      "           0       1.00      1.00      1.00      3645\n",
      "           1       0.99      1.00      1.00       393\n",
      "           2       1.00      1.00      1.00        23\n",
      "           3       1.00      1.00      1.00       602\n",
      "           4       1.00      1.00      1.00         7\n",
      "           5       1.00      0.99      1.00       256\n",
      "           6       0.98      1.00      0.99       436\n",
      "\n",
      "    accuracy                           1.00      5362\n",
      "   macro avg       0.99      1.00      1.00      5362\n",
      "weighted avg       1.00      1.00      1.00      5362\n",
      "\n"
     ]
    },
    {
     "data": {
      "text/plain": [
       "<Figure size 500x500 with 2 Axes>"
      ],
      "image/png": "[encoded data removed]"
     },
     "metadata": {},
     "output_type": "display_data"
    }
   ],
   "execution_count": 247
  },
  {
   "cell_type": "code",
   "metadata": {
    "collapsed": true,
    "ExecuteTime": {
     "end_time": "2024-08-26T09:28:36.676014Z",
     "start_time": "2024-08-26T09:28:36.595054Z"
    }
   },
   "source": [
    "rf_train=rf_hpo.predict(X_train)\n",
    "rf_test=rf_hpo.predict(X_test)"
   ],
   "outputs": [],
   "execution_count": 248
  },
  {
   "cell_type": "markdown",
   "metadata": {},
   "source": [
    "#### Apply DT"
   ]
  },
  {
   "cell_type": "code",
   "metadata": {
    "ExecuteTime": {
     "end_time": "2024-08-26T09:28:36.827142Z",
     "start_time": "2024-08-26T09:28:36.676734Z"
    }
   },
   "source": [
    "dt = DecisionTreeClassifier(random_state = 0)\n",
    "dt.fit(X_train,y_train) \n",
    "dt_score=dt.score(X_test,y_test)\n",
    "y_predict=dt.predict(X_test)\n",
    "y_true=y_test\n",
    "print('Accuracy of DT: '+ str(dt_score))\n",
    "precision,recall,fscore,none= precision_recall_fscore_support(y_true, y_predict, average='weighted') \n",
    "print('Precision of DT: '+(str(precision)))\n",
    "print('Recall of DT: '+(str(recall)))\n",
    "print('F1-score of DT: '+(str(fscore)))\n",
    "print(classification_report(y_true,y_predict))\n",
    "cm=confusion_matrix(y_true,y_predict)\n",
    "f,ax=plt.subplots(figsize=(5,5))\n",
    "sns.heatmap(cm,annot=True,linewidth=0.5,linecolor=\"red\",fmt=\".0f\",ax=ax)\n",
    "plt.xlabel(\"y_pred\")\n",
    "plt.ylabel(\"y_true\")\n",
    "plt.show()"
   ],
   "outputs": [
    {
     "name": "stdout",
     "output_type": "stream",
     "text": [
      "Accuracy of DT: 0.994964565460649\n",
      "Precision of DT: 0.9949939387686709\n",
      "Recall of DT: 0.994964565460649\n",
      "F1-score of DT: 0.9949705908488156\n",
      "              precision    recall  f1-score   support\n",
      "\n",
      "           0       1.00      1.00      1.00      3645\n",
      "           1       0.99      0.99      0.99       393\n",
      "           2       1.00      1.00      1.00        23\n",
      "           3       1.00      1.00      1.00       602\n",
      "           4       0.88      1.00      0.93         7\n",
      "           5       0.99      0.98      0.99       256\n",
      "           6       0.99      0.99      0.99       436\n",
      "\n",
      "    accuracy                           0.99      5362\n",
      "   macro avg       0.98      0.99      0.98      5362\n",
      "weighted avg       0.99      0.99      0.99      5362\n",
      "\n"
     ]
    },
    {
     "data": {
      "text/plain": [
       "<Figure size 500x500 with 2 Axes>"
      ],
      "image/png": "[encoded data removed]"
     },
     "metadata": {},
     "output_type": "display_data"
    }
   ],
   "execution_count": 249
  },
  {
   "cell_type": "markdown",
   "metadata": {},
   "source": [
    "#### Hyperparameter optimization (HPO) of decision tree using Bayesian optimization with tree-based Parzen estimator (BO-TPE)\n",
    "Based on the GitHub repo for HPO: https://github.com/LiYangHart/Hyperparameter-Optimization-of-Machine-Learning-Algorithms"
   ]
  },
  {
   "cell_type": "code",
   "metadata": {
    "ExecuteTime": {
     "end_time": "2024-08-26T09:28:39.348697Z",
     "start_time": "2024-08-26T09:28:36.827774Z"
    }
   },
   "source": [
    "from hyperopt import hp, fmin, tpe, STATUS_OK, Trials\n",
    "from sklearn.tree import DecisionTreeClassifier\n",
    "from sklearn.metrics import accuracy_score, precision_recall_fscore_support, classification_report, confusion_matrix\n",
    "import seaborn as sns\n",
    "import matplotlib.pyplot as plt\n",
    "\n",
    "# Define the objective function\n",
    "def objective(params):\n",
    "    params = {\n",
    "        'max_depth': int(params['max_depth']),\n",
    "        'max_features': int(params['max_features']),\n",
    "        'min_samples_split': int(params['min_samples_split']),\n",
    "        'min_samples_leaf': int(params['min_samples_leaf']),\n",
    "        'criterion': str(params['criterion'])\n",
    "    }\n",
    "    clf = DecisionTreeClassifier(**params)\n",
    "    clf.fit(X_train, y_train)\n",
    "    score = clf.score(X_test, y_test)\n",
    "\n",
    "    return {'loss': -score, 'status': STATUS_OK }\n",
    "\n",
    "# Define the hyperparameter configuration space\n",
    "space = {\n",
    "    'max_depth': hp.quniform('max_depth', 5, 50, 1),\n",
    "    'max_features': hp.quniform('max_features', 1, 20, 1),\n",
    "    'min_samples_split': hp.quniform('min_samples_split', 2, 11, 1),\n",
    "    'min_samples_leaf': hp.quniform('min_samples_leaf', 1, 11, 1),\n",
    "    'criterion': hp.choice('criterion', ['gini', 'entropy'])\n",
    "}\n",
    "\n",
    "# Running the optimization\n",
    "best = fmin(fn=objective,\n",
    "            space=space,\n",
    "            algo=tpe.suggest,\n",
    "            max_evals=50)\n",
    "\n",
    "# 최적화 결과 출력\n",
    "print(\"Decision tree: Hyperopt estimated optimum {}\".format(best))\n"
   ],
   "outputs": [
    {
     "name": "stdout",
     "output_type": "stream",
     "text": [
      "100%|██████████| 50/50 [00:02<00:00, 19.87trial/s, best loss: -0.9953375606117121]\n",
      "Decision tree: Hyperopt estimated optimum {'criterion': np.int64(1), 'max_depth': np.float64(37.0), 'max_features': np.float64(20.0), 'min_samples_leaf': np.float64(3.0), 'min_samples_split': np.float64(8.0)}\n"
     ]
    }
   ],
   "execution_count": 250
  },
  {
   "cell_type": "code",
   "metadata": {
    "ExecuteTime": {
     "end_time": "2024-08-26T09:28:39.483785Z",
     "start_time": "2024-08-26T09:28:39.349284Z"
    }
   },
   "source": [
    "# 최적화된 하이퍼파라미터를 사용하여 DecisionTreeClassifier를 정의\n",
    "dt_hpo = DecisionTreeClassifier(\n",
    "    max_depth=int(best['max_depth']),\n",
    "    max_features=int(best['max_features']),\n",
    "    min_samples_split=int(best['min_samples_split']),\n",
    "    min_samples_leaf=int(best['min_samples_leaf']),\n",
    "    criterion=['gini', 'entropy'][best['criterion']]\n",
    ")\n",
    "\n",
    "# 모델 학습\n",
    "dt_hpo.fit(X_train, y_train)\n",
    "\n",
    "# 모델 예측 및 성능 평가\n",
    "dt_score = dt_hpo.score(X_test, y_test)\n",
    "y_predict = dt_hpo.predict(X_test)\n",
    "y_true = y_test\n",
    "\n",
    "# 평가 결과 출력\n",
    "print('Accuracy of DT: ' + str(dt_score))\n",
    "precision, recall, fscore, _ = precision_recall_fscore_support(y_true, y_predict, average='weighted')\n",
    "print('Precision of DT: ' + str(precision))\n",
    "print('Recall of DT: ' + str(recall))\n",
    "print('F1-score of DT: ' + str(fscore))\n",
    "print(classification_report(y_true, y_predict))\n",
    "\n",
    "# 혼동 행렬 시각화\n",
    "cm = confusion_matrix(y_true, y_predict)\n",
    "f, ax = plt.subplots(figsize=(5, 5))\n",
    "sns.heatmap(cm, annot=True, linewidths=0.5, linecolor=\"red\", fmt=\".0f\", ax=ax)\n",
    "plt.xlabel(\"y_pred\")\n",
    "plt.ylabel(\"y_true\")\n",
    "plt.show()\n"
   ],
   "outputs": [
    {
     "name": "stdout",
     "output_type": "stream",
     "text": [
      "Accuracy of DT: 0.994964565460649\n",
      "Precision of DT: 0.9949788948910002\n",
      "Recall of DT: 0.994964565460649\n",
      "F1-score of DT: 0.9949619689598324\n",
      "              precision    recall  f1-score   support\n",
      "\n",
      "           0       1.00      1.00      1.00      3645\n",
      "           1       0.99      1.00      0.99       393\n",
      "           2       1.00      1.00      1.00        23\n",
      "           3       0.99      1.00      1.00       602\n",
      "           4       1.00      1.00      1.00         7\n",
      "           5       1.00      0.98      0.99       256\n",
      "           6       0.99      0.99      0.99       436\n",
      "\n",
      "    accuracy                           0.99      5362\n",
      "   macro avg       0.99      0.99      0.99      5362\n",
      "weighted avg       0.99      0.99      0.99      5362\n",
      "\n"
     ]
    },
    {
     "data": {
      "text/plain": [
       "<Figure size 500x500 with 2 Axes>"
      ],
      "image/png": "[encoded data removed]"
     },
     "metadata": {},
     "output_type": "display_data"
    }
   ],
   "execution_count": 251
  },
  {
   "cell_type": "code",
   "metadata": {
    "collapsed": true,
    "ExecuteTime": {
     "end_time": "2024-08-26T09:28:39.487378Z",
     "start_time": "2024-08-26T09:28:39.484360Z"
    }
   },
   "source": [
    "dt_train=dt_hpo.predict(X_train)\n",
    "dt_test=dt_hpo.predict(X_test)"
   ],
   "outputs": [],
   "execution_count": 252
  },
  {
   "cell_type": "markdown",
   "metadata": {},
   "source": [
    "#### Apply ET"
   ]
  },
  {
   "cell_type": "code",
   "metadata": {
    "ExecuteTime": {
     "end_time": "2024-08-26T09:28:40.130295Z",
     "start_time": "2024-08-26T09:28:39.487996Z"
    }
   },
   "source": [
    "et = ExtraTreesClassifier(random_state = 0)\n",
    "et.fit(X_train,y_train) \n",
    "et_score=et.score(X_test,y_test)\n",
    "y_predict=et.predict(X_test)\n",
    "y_true=y_test\n",
    "print('Accuracy of ET: '+ str(et_score))\n",
    "precision,recall,fscore,none= precision_recall_fscore_support(y_true, y_predict, average='weighted') \n",
    "print('Precision of ET: '+(str(precision)))\n",
    "print('Recall of ET: '+(str(recall)))\n",
    "print('F1-score of ET: '+(str(fscore)))\n",
    "print(classification_report(y_true,y_predict))\n",
    "cm=confusion_matrix(y_true,y_predict)\n",
    "f,ax=plt.subplots(figsize=(5,5))\n",
    "sns.heatmap(cm,annot=True,linewidth=0.5,linecolor=\"red\",fmt=\".0f\",ax=ax)\n",
    "plt.xlabel(\"y_pred\")\n",
    "plt.ylabel(\"y_true\")\n",
    "plt.show()"
   ],
   "outputs": [
    {
     "name": "stdout",
     "output_type": "stream",
     "text": [
      "Accuracy of ET: 0.9960835509138382\n",
      "Precision of ET: 0.9960886568164595\n",
      "Recall of ET: 0.9960835509138382\n",
      "F1-score of ET: 0.9960847482830056\n",
      "              precision    recall  f1-score   support\n",
      "\n",
      "           0       1.00      1.00      1.00      3645\n",
      "           1       0.99      1.00      0.99       393\n",
      "           2       1.00      1.00      1.00        23\n",
      "           3       0.99      1.00      0.99       602\n",
      "           4       0.86      0.86      0.86         7\n",
      "           5       1.00      0.99      0.99       256\n",
      "           6       0.99      1.00      0.99       436\n",
      "\n",
      "    accuracy                           1.00      5362\n",
      "   macro avg       0.98      0.98      0.98      5362\n",
      "weighted avg       1.00      1.00      1.00      5362\n",
      "\n"
     ]
    },
    {
     "data": {
      "text/plain": [
       "<Figure size 500x500 with 2 Axes>"
      ],
      "image/png": "[encoded data removed]"
     },
     "metadata": {},
     "output_type": "display_data"
    }
   ],
   "execution_count": 253
  },
  {
   "cell_type": "markdown",
   "metadata": {},
   "source": [
    "#### Hyperparameter optimization (HPO) of extra trees using Bayesian optimization with tree-based Parzen estimator (BO-TPE)\n",
    "Based on the GitHub repo for HPO: https://github.com/LiYangHart/Hyperparameter-Optimization-of-Machine-Learning-Algorithms"
   ]
  },
  {
   "cell_type": "code",
   "metadata": {
    "ExecuteTime": {
     "end_time": "2024-08-26T09:28:51.972615Z",
     "start_time": "2024-08-26T09:28:40.130945Z"
    }
   },
   "source": [
    "from hyperopt import hp, fmin, tpe, STATUS_OK, Trials\n",
    "from sklearn.ensemble import ExtraTreesClassifier\n",
    "from sklearn.metrics import accuracy_score, precision_recall_fscore_support, classification_report, confusion_matrix\n",
    "import seaborn as sns\n",
    "import matplotlib.pyplot as plt\n",
    "\n",
    "# Define the objective function\n",
    "def objective(params):\n",
    "    params = {\n",
    "        'n_estimators': int(params['n_estimators']),\n",
    "        'max_depth': int(params['max_depth']),\n",
    "        'max_features': int(params['max_features']),\n",
    "        'min_samples_split': int(params['min_samples_split']),\n",
    "        'min_samples_leaf': int(params['min_samples_leaf']),\n",
    "        'criterion': str(params['criterion'])\n",
    "    }\n",
    "    clf = ExtraTreesClassifier(**params)\n",
    "    clf.fit(X_train, y_train)\n",
    "    score = clf.score(X_test, y_test)\n",
    "\n",
    "    return {'loss': -score, 'status': STATUS_OK }\n",
    "\n",
    "# Define the hyperparameter configuration space\n",
    "space = {\n",
    "    'n_estimators': hp.quniform('n_estimators', 10, 200, 1),\n",
    "    'max_depth': hp.quniform('max_depth', 5, 50, 1),\n",
    "    'max_features': hp.quniform('max_features', 1, 20, 1),\n",
    "    'min_samples_split': hp.quniform('min_samples_split', 2, 11, 1),\n",
    "    'min_samples_leaf': hp.quniform('min_samples_leaf', 1, 11, 1),\n",
    "    'criterion': hp.choice('criterion', ['gini', 'entropy'])\n",
    "}\n",
    "\n",
    "# Running the optimization\n",
    "best = fmin(fn=objective,\n",
    "            space=space,\n",
    "            algo=tpe.suggest,\n",
    "            max_evals=20)\n",
    "\n",
    "# 최적화 결과 출력\n",
    "print(\"Extra Trees: Hyperopt estimated optimum {}\".format(best))\n"
   ],
   "outputs": [
    {
     "name": "stdout",
     "output_type": "stream",
     "text": [
      "100%|██████████| 20/20 [00:11<00:00,  1.69trial/s, best loss: -0.9927265945542708]\n",
      "Extra Trees: Hyperopt estimated optimum {'criterion': np.int64(1), 'max_depth': np.float64(28.0), 'max_features': np.float64(19.0), 'min_samples_leaf': np.float64(8.0), 'min_samples_split': np.float64(5.0), 'n_estimators': np.float64(67.0)}\n"
     ]
    }
   ],
   "execution_count": 254
  },
  {
   "cell_type": "code",
   "metadata": {
    "ExecuteTime": {
     "end_time": "2024-08-26T09:28:52.645729Z",
     "start_time": "2024-08-26T09:28:51.973188Z"
    }
   },
   "source": [
    "# 최적화된 하이퍼파라미터를 사용하여 ExtraTreesClassifier를 정의\n",
    "et_hpo = ExtraTreesClassifier(\n",
    "    n_estimators=int(best['n_estimators']),\n",
    "    max_depth=int(best['max_depth']),\n",
    "    max_features=int(best['max_features']),\n",
    "    min_samples_split=int(best['min_samples_split']),\n",
    "    min_samples_leaf=int(best['min_samples_leaf']),\n",
    "    criterion=['gini', 'entropy'][best['criterion']]\n",
    ")\n",
    "\n",
    "# 모델 학습\n",
    "et_hpo.fit(X_train, y_train)\n",
    "\n",
    "# 모델 예측 및 성능 평가\n",
    "et_score = et_hpo.score(X_test, y_test)\n",
    "y_predict = et_hpo.predict(X_test)\n",
    "y_true = y_test\n",
    "\n",
    "# 평가 결과 출력\n",
    "print('Accuracy of ET: ' + str(et_score))\n",
    "precision, recall, fscore, _ = precision_recall_fscore_support(y_true, y_predict, average='weighted')\n",
    "print('Precision of ET: ' + str(precision))\n",
    "print('Recall of ET: ' + str(recall))\n",
    "print('F1-score of ET: ' + str(fscore))\n",
    "print(classification_report(y_true, y_predict))\n",
    "\n",
    "# 혼동 행렬 시각화\n",
    "cm = confusion_matrix(y_true, y_predict)\n",
    "f, ax = plt.subplots(figsize=(5, 5))\n",
    "sns.heatmap(cm, annot=True, linewidths=0.5, linecolor=\"red\", fmt=\".0f\", ax=ax)\n",
    "plt.xlabel(\"y_pred\")\n",
    "plt.ylabel(\"y_true\")\n",
    "plt.show()\n"
   ],
   "outputs": [
    {
     "name": "stdout",
     "output_type": "stream",
     "text": [
      "Accuracy of ET: 0.9910481163744871\n",
      "Precision of ET: 0.9912780256865574\n",
      "Recall of ET: 0.9910481163744871\n",
      "F1-score of ET: 0.9910822583041872\n",
      "              precision    recall  f1-score   support\n",
      "\n",
      "           0       1.00      0.99      0.99      3645\n",
      "           1       0.96      1.00      0.98       393\n",
      "           2       1.00      1.00      1.00        23\n",
      "           3       0.98      1.00      0.99       602\n",
      "           4       1.00      0.86      0.92         7\n",
      "           5       1.00      0.99      0.99       256\n",
      "           6       0.97      1.00      0.98       436\n",
      "\n",
      "    accuracy                           0.99      5362\n",
      "   macro avg       0.99      0.98      0.98      5362\n",
      "weighted avg       0.99      0.99      0.99      5362\n",
      "\n"
     ]
    },
    {
     "data": {
      "text/plain": [
       "<Figure size 500x500 with 2 Axes>"
      ],
      "image/png": "[encoded data removed]"
     },
     "metadata": {},
     "output_type": "display_data"
    }
   ],
   "execution_count": 255
  },
  {
   "cell_type": "code",
   "metadata": {
    "collapsed": true,
    "ExecuteTime": {
     "end_time": "2024-08-26T09:28:52.724140Z",
     "start_time": "2024-08-26T09:28:52.646338Z"
    }
   },
   "source": [
    "et_train=et_hpo.predict(X_train)\n",
    "et_test=et_hpo.predict(X_test)"
   ],
   "outputs": [],
   "execution_count": 256
  },
  {
   "cell_type": "markdown",
   "metadata": {},
   "source": [
    "### Apply Stacking\n",
    "The ensemble model that combines the four ML models (DT, RF, ET, XGBoost)"
   ]
  },
  {
   "cell_type": "code",
   "metadata": {
    "ExecuteTime": {
     "end_time": "2024-08-26T09:28:52.728205Z",
     "start_time": "2024-08-26T09:28:52.724781Z"
    }
   },
   "source": [
    "base_predictions_train = pd.DataFrame( {\n",
    "    'DecisionTree': dt_train.ravel(),\n",
    "        'RandomForest': rf_train.ravel(),\n",
    "     'ExtraTrees': et_train.ravel(),\n",
    "     'XgBoost': xg_train.ravel(),\n",
    "    })\n",
    "base_predictions_train.head(5)"
   ],
   "outputs": [
    {
     "data": {
      "text/plain": [
       "   DecisionTree  RandomForest  ExtraTrees  XgBoost\n",
       "0             0             0           0        0\n",
       "1             0             0           0        0\n",
       "2             0             0           0        0\n",
       "3             3             3           3        3\n",
       "4             6             6           6        6"
      ],
      "text/html": [
       "<div>\n",
       "<style scoped>\n",
       "    .dataframe tbody tr th:only-of-type {\n",
       "        vertical-align: middle;\n",
       "    }\n",
       "\n",
       "    .dataframe tbody tr th {\n",
       "        vertical-align: top;\n",
       "    }\n",
       "\n",
       "    .dataframe thead th {\n",
       "        text-align: right;\n",
       "    }\n",
       "</style>\n",
       "<table border=\"1\" class=\"dataframe\">\n",
       "  <thead>\n",
       "    <tr style=\"text-align: right;\">\n",
       "      <th></th>\n",
       "      <th>DecisionTree</th>\n",
       "      <th>RandomForest</th>\n",
       "      <th>ExtraTrees</th>\n",
       "      <th>XgBoost</th>\n",
       "    </tr>\n",
       "  </thead>\n",
       "  <tbody>\n",
       "    <tr>\n",
       "      <th>0</th>\n",
       "      <td>0</td>\n",
       "      <td>0</td>\n",
       "      <td>0</td>\n",
       "      <td>0</td>\n",
       "    </tr>\n",
       "    <tr>\n",
       "      <th>1</th>\n",
       "      <td>0</td>\n",
       "      <td>0</td>\n",
       "      <td>0</td>\n",
       "      <td>0</td>\n",
       "    </tr>\n",
       "    <tr>\n",
       "      <th>2</th>\n",
       "      <td>0</td>\n",
       "      <td>0</td>\n",
       "      <td>0</td>\n",
       "      <td>0</td>\n",
       "    </tr>\n",
       "    <tr>\n",
       "      <th>3</th>\n",
       "      <td>3</td>\n",
       "      <td>3</td>\n",
       "      <td>3</td>\n",
       "      <td>3</td>\n",
       "    </tr>\n",
       "    <tr>\n",
       "      <th>4</th>\n",
       "      <td>6</td>\n",
       "      <td>6</td>\n",
       "      <td>6</td>\n",
       "      <td>6</td>\n",
       "    </tr>\n",
       "  </tbody>\n",
       "</table>\n",
       "</div>"
      ]
     },
     "execution_count": 257,
     "metadata": {},
     "output_type": "execute_result"
    }
   ],
   "execution_count": 257
  },
  {
   "cell_type": "code",
   "metadata": {
    "ExecuteTime": {
     "end_time": "2024-08-26T09:28:52.730398Z",
     "start_time": "2024-08-26T09:28:52.728810Z"
    }
   },
   "source": [
    "dt_train=dt_train.reshape(-1, 1)\n",
    "et_train=et_train.reshape(-1, 1)\n",
    "rf_train=rf_train.reshape(-1, 1)\n",
    "xg_train=xg_train.reshape(-1, 1)\n",
    "dt_test=dt_test.reshape(-1, 1)\n",
    "et_test=et_test.reshape(-1, 1)\n",
    "rf_test=rf_test.reshape(-1, 1)\n",
    "xg_test=xg_test.reshape(-1, 1)"
   ],
   "outputs": [],
   "execution_count": 258
  },
  {
   "cell_type": "code",
   "metadata": {
    "ExecuteTime": {
     "end_time": "2024-08-26T09:28:52.732683Z",
     "start_time": "2024-08-26T09:28:52.731004Z"
    }
   },
   "source": [
    "dt_train.shape"
   ],
   "outputs": [
    {
     "data": {
      "text/plain": [
       "(23329, 1)"
      ]
     },
     "execution_count": 259,
     "metadata": {},
     "output_type": "execute_result"
    }
   ],
   "execution_count": 259
  },
  {
   "cell_type": "code",
   "metadata": {
    "ExecuteTime": {
     "end_time": "2024-08-26T09:28:52.734691Z",
     "start_time": "2024-08-26T09:28:52.733103Z"
    }
   },
   "source": [
    "x_train = np.concatenate(( dt_train, et_train, rf_train, xg_train), axis=1)\n",
    "x_test = np.concatenate(( dt_test, et_test, rf_test, xg_test), axis=1)"
   ],
   "outputs": [],
   "execution_count": 260
  },
  {
   "cell_type": "code",
   "metadata": {
    "ExecuteTime": {
     "end_time": "2024-08-26T09:28:53.477617Z",
     "start_time": "2024-08-26T09:28:52.735208Z"
    }
   },
   "source": [
    "stk = xgb.XGBClassifier().fit(x_train, y_train)\n",
    "y_predict=stk.predict(x_test)\n",
    "y_true=y_test\n",
    "stk_score=accuracy_score(y_true,y_predict)\n",
    "print('Accuracy of Stacking: '+ str(stk_score))\n",
    "precision,recall,fscore,none= precision_recall_fscore_support(y_true, y_predict, average='weighted') \n",
    "print('Precision of Stacking: '+(str(precision)))\n",
    "print('Recall of Stacking: '+(str(recall)))\n",
    "print('F1-score of Stacking: '+(str(fscore)))\n",
    "print(classification_report(y_true,y_predict))\n",
    "cm=confusion_matrix(y_true,y_predict)\n",
    "f,ax=plt.subplots(figsize=(5,5))\n",
    "sns.heatmap(cm,annot=True,linewidth=0.5,linecolor=\"red\",fmt=\".0f\",ax=ax)\n",
    "plt.xlabel(\"y_pred\")\n",
    "plt.ylabel(\"y_true\")\n",
    "plt.show()"
   ],
   "outputs": [
    {
     "name": "stdout",
     "output_type": "stream",
     "text": [
      "Accuracy of Stacking: 0.9966430436404327\n",
      "Precision of Stacking: 0.996651200818168\n",
      "Recall of Stacking: 0.9966430436404327\n",
      "F1-score of Stacking: 0.9966437529404503\n",
      "              precision    recall  f1-score   support\n",
      "\n",
      "           0       1.00      1.00      1.00      3645\n",
      "           1       0.99      1.00      0.99       393\n",
      "           2       1.00      1.00      1.00        23\n",
      "           3       1.00      1.00      1.00       602\n",
      "           4       1.00      1.00      1.00         7\n",
      "           5       1.00      1.00      1.00       256\n",
      "           6       0.99      0.99      0.99       436\n",
      "\n",
      "    accuracy                           1.00      5362\n",
      "   macro avg       1.00      1.00      1.00      5362\n",
      "weighted avg       1.00      1.00      1.00      5362\n",
      "\n"
     ]
    },
    {
     "data": {
      "text/plain": [
       "<Figure size 500x500 with 2 Axes>"
      ],
      "image/png": "[encoded data removed]"
     },
     "metadata": {},
     "output_type": "display_data"
    }
   ],
   "execution_count": 261
  },
  {
   "cell_type": "markdown",
   "metadata": {},
   "source": [
    "#### Hyperparameter optimization (HPO) of the stacking ensemble model (XGBoost) using Bayesian optimization with tree-based Parzen estimator (BO-TPE)\n",
    "Based on the GitHub repo for HPO: https://github.com/LiYangHart/Hyperparameter-Optimization-of-Machine-Learning-Algorithms"
   ]
  },
  {
   "cell_type": "code",
   "metadata": {
    "ExecuteTime": {
     "end_time": "2024-08-26T09:28:58.598711Z",
     "start_time": "2024-08-26T09:28:53.478198Z"
    }
   },
   "source": [
    "from hyperopt import hp, fmin, tpe, STATUS_OK, Trials\n",
    "from sklearn.model_selection import cross_val_score, StratifiedKFold\n",
    "def objective(params):\n",
    "    params = {\n",
    "        'n_estimators': int(params['n_estimators']), \n",
    "        'max_depth': int(params['max_depth']),\n",
    "        'learning_rate':  abs(float(params['learning_rate'])),\n",
    "\n",
    "    }\n",
    "    clf = xgb.XGBClassifier( **params)\n",
    "    clf.fit(x_train, y_train)\n",
    "    y_pred = clf.predict(x_test)\n",
    "    score = accuracy_score(y_test, y_pred)\n",
    "\n",
    "    return {'loss':-score, 'status': STATUS_OK }\n",
    "\n",
    "space = {\n",
    "    'n_estimators': hp.quniform('n_estimators', 10, 100, 5),\n",
    "    'max_depth': hp.quniform('max_depth', 4, 100, 1),\n",
    "    'learning_rate': hp.normal('learning_rate', 0.01, 0.9),\n",
    "}\n",
    "\n",
    "best = fmin(fn=objective,\n",
    "            space=space,\n",
    "            algo=tpe.suggest,\n",
    "            max_evals=20)\n",
    "print(\"XGBoost: Hyperopt estimated optimum {}\".format(best))"
   ],
   "outputs": [
    {
     "name": "stdout",
     "output_type": "stream",
     "text": [
      "100%|██████████| 20/20 [00:05<00:00,  3.96trial/s, best loss: -0.9972025363670273]\n",
      "XGBoost: Hyperopt estimated optimum {'learning_rate': np.float64(0.018538516421554494), 'max_depth': np.float64(27.0), 'n_estimators': np.float64(75.0)}\n"
     ]
    }
   ],
   "execution_count": 262
  },
  {
   "cell_type": "code",
   "metadata": {
    "ExecuteTime": {
     "end_time": "2024-08-26T09:28:58.980017Z",
     "start_time": "2024-08-26T09:28:58.599350Z"
    }
   },
   "source": [
    "xg = xgb.XGBClassifier(learning_rate= 0.40689651658325954, n_estimators = 80, max_depth = 78)\n",
    "xg.fit(x_train,y_train)\n",
    "xg_score=xg.score(x_test,y_test)\n",
    "y_predict=xg.predict(x_test)\n",
    "y_true=y_test\n",
    "print('Accuracy of XGBoost: '+ str(xg_score))\n",
    "precision,recall,fscore,none= precision_recall_fscore_support(y_true, y_predict, average='weighted') \n",
    "print('Precision of XGBoost: '+(str(precision)))\n",
    "print('Recall of XGBoost: '+(str(recall)))\n",
    "print('F1-score of XGBoost: '+(str(fscore)))\n",
    "print(classification_report(y_true,y_predict))\n",
    "cm=confusion_matrix(y_true,y_predict)\n",
    "f,ax=plt.subplots(figsize=(5,5))\n",
    "sns.heatmap(cm,annot=True,linewidth=0.5,linecolor=\"red\",fmt=\".0f\",ax=ax)\n",
    "plt.xlabel(\"y_pred\")\n",
    "plt.ylabel(\"y_true\")\n",
    "plt.show()"
   ],
   "outputs": [
    {
     "name": "stdout",
     "output_type": "stream",
     "text": [
      "Accuracy of XGBoost: 0.9966430436404327\n",
      "Precision of XGBoost: 0.996651200818168\n",
      "Recall of XGBoost: 0.9966430436404327\n",
      "F1-score of XGBoost: 0.9966437529404503\n",
      "              precision    recall  f1-score   support\n",
      "\n",
      "           0       1.00      1.00      1.00      3645\n",
      "           1       0.99      1.00      0.99       393\n",
      "           2       1.00      1.00      1.00        23\n",
      "           3       1.00      1.00      1.00       602\n",
      "           4       1.00      1.00      1.00         7\n",
      "           5       1.00      1.00      1.00       256\n",
      "           6       0.99      0.99      0.99       436\n",
      "\n",
      "    accuracy                           1.00      5362\n",
      "   macro avg       1.00      1.00      1.00      5362\n",
      "weighted avg       1.00      1.00      1.00      5362\n",
      "\n"
     ]
    },
    {
     "data": {
      "text/plain": [
       "<Figure size 500x500 with 2 Axes>"
      ],
      "image/png": "[encoded data removed]"
     },
     "metadata": {},
     "output_type": "display_data"
    }
   ],
   "execution_count": 263
  },
  {
   "cell_type": "markdown",
   "metadata": {
    "collapsed": true
   },
   "source": [
    "## Anomaly-based IDS"
   ]
  },
  {
   "cell_type": "markdown",
   "metadata": {},
   "source": [
    "### Generate the port-scan datasets for unknown attack detection"
   ]
  },
  {
   "cell_type": "code",
   "metadata": {
    "collapsed": true,
    "ExecuteTime": {
     "end_time": "2024-08-26T09:28:59.147445Z",
     "start_time": "2024-08-26T09:28:58.980628Z"
    }
   },
   "source": [
    "df=pd.read_csv('./data/CICIDS2017_sample_km.csv')"
   ],
   "outputs": [],
   "execution_count": 264
  },
  {
   "cell_type": "code",
   "metadata": {
    "ExecuteTime": {
     "end_time": "2024-08-26T09:28:59.150611Z",
     "start_time": "2024-08-26T09:28:59.148180Z"
    }
   },
   "source": [
    "df.Label.value_counts()"
   ],
   "outputs": [
    {
     "data": {
      "text/plain": [
       "Label\n",
       "0    18225\n",
       "3     3011\n",
       "6     2180\n",
       "1     1966\n",
       "5     1279\n",
       "2      112\n",
       "4       36\n",
       "Name: count, dtype: int64"
      ]
     },
     "execution_count": 265,
     "metadata": {},
     "output_type": "execute_result"
    }
   ],
   "execution_count": 265
  },
  {
   "cell_type": "code",
   "metadata": {
    "collapsed": true,
    "ExecuteTime": {
     "end_time": "2024-08-26T09:29:00.100245Z",
     "start_time": "2024-08-26T09:28:59.151170Z"
    }
   },
   "source": [
    "df1 = df[df['Label'] != 5]\n",
    "df1['Label'][df1['Label'] > 0] = 1\n",
    "df1.to_csv('./data/CICIDS2017_sample_km_without_portscan.csv',index=0)"
   ],
   "outputs": [],
   "execution_count": 266
  },
  {
   "cell_type": "code",
   "metadata": {
    "collapsed": true,
    "ExecuteTime": {
     "end_time": "2024-08-26T09:29:00.152449Z",
     "start_time": "2024-08-26T09:29:00.101022Z"
    }
   },
   "source": [
    "df2 = df[df['Label'] == 5]\n",
    "df2['Label'][df2['Label'] == 5] = 1\n",
    "df2.to_csv('./data/CICIDS2017_sample_km_portscan.csv',index=0)"
   ],
   "outputs": [],
   "execution_count": 267
  },
  {
   "cell_type": "markdown",
   "metadata": {},
   "source": [
    "### Read the generated datasets for unknown attack detection"
   ]
  },
  {
   "cell_type": "code",
   "metadata": {
    "collapsed": true,
    "ExecuteTime": {
     "end_time": "2024-08-26T09:29:00.301991Z",
     "start_time": "2024-08-26T09:29:00.153109Z"
    }
   },
   "source": [
    "df1 = pd.read_csv('./data/CICIDS2017_sample_km_without_portscan.csv')\n",
    "df2 = pd.read_csv('./data/CICIDS2017_sample_km_portscan.csv')"
   ],
   "outputs": [],
   "execution_count": 268
  },
  {
   "cell_type": "code",
   "metadata": {
    "ExecuteTime": {
     "end_time": "2024-08-26T09:29:00.335911Z",
     "start_time": "2024-08-26T09:29:00.302752Z"
    }
   },
   "source": [
    "features = df1.drop(['Label'],axis=1).dtypes[df1.dtypes != 'object'].index\n",
    "df1[features] = df1[features].apply(\n",
    "    lambda x: (x - x.mean()) / (x.std()))\n",
    "df2[features] = df2[features].apply(\n",
    "    lambda x: (x - x.mean()) / (x.std()))\n",
    "df1 = df1.fillna(0)\n",
    "df2 = df2.fillna(0)"
   ],
   "outputs": [],
   "execution_count": 269
  },
  {
   "cell_type": "code",
   "metadata": {
    "ExecuteTime": {
     "end_time": "2024-08-26T09:29:00.339084Z",
     "start_time": "2024-08-26T09:29:00.336488Z"
    }
   },
   "source": [
    "df1.Label.value_counts()"
   ],
   "outputs": [
    {
     "data": {
      "text/plain": [
       "Label\n",
       "0    18225\n",
       "1     7305\n",
       "Name: count, dtype: int64"
      ]
     },
     "execution_count": 270,
     "metadata": {},
     "output_type": "execute_result"
    }
   ],
   "execution_count": 270
  },
  {
   "cell_type": "code",
   "metadata": {
    "scrolled": true,
    "ExecuteTime": {
     "end_time": "2024-08-26T09:29:00.341608Z",
     "start_time": "2024-08-26T09:29:00.339590Z"
    }
   },
   "source": [
    "df2.Label.value_counts()"
   ],
   "outputs": [
    {
     "data": {
      "text/plain": [
       "Label\n",
       "1    1279\n",
       "Name: count, dtype: int64"
      ]
     },
     "execution_count": 271,
     "metadata": {},
     "output_type": "execute_result"
    }
   ],
   "execution_count": 271
  },
  {
   "cell_type": "code",
   "metadata": {
    "ExecuteTime": {
     "end_time": "2024-08-26T09:29:00.350059Z",
     "start_time": "2024-08-26T09:29:00.342088Z"
    }
   },
   "source": [
    "df2p=df1[df1['Label']==0]\n",
    "df2pp=df2p.sample(n=None, frac=1255/18225, replace=False, weights=None, random_state=None, axis=0)\n",
    "df2=pd.concat([df2, df2pp])"
   ],
   "outputs": [],
   "execution_count": 272
  },
  {
   "cell_type": "code",
   "metadata": {
    "ExecuteTime": {
     "end_time": "2024-08-26T09:29:00.352818Z",
     "start_time": "2024-08-26T09:29:00.350651Z"
    }
   },
   "source": [
    "df2.Label.value_counts()"
   ],
   "outputs": [
    {
     "data": {
      "text/plain": [
       "Label\n",
       "1    1279\n",
       "0    1255\n",
       "Name: count, dtype: int64"
      ]
     },
     "execution_count": 273,
     "metadata": {},
     "output_type": "execute_result"
    }
   ],
   "execution_count": 273
  },
  {
   "cell_type": "code",
   "metadata": {
    "collapsed": true,
    "ExecuteTime": {
     "end_time": "2024-08-26T09:29:00.356807Z",
     "start_time": "2024-08-26T09:29:00.353295Z"
    }
   },
   "source": "df = pd.concat([df1, df2])",
   "outputs": [],
   "execution_count": 274
  },
  {
   "cell_type": "code",
   "metadata": {
    "ExecuteTime": {
     "end_time": "2024-08-26T09:29:00.364857Z",
     "start_time": "2024-08-26T09:29:00.357310Z"
    }
   },
   "source": [
    "X = df.drop(['Label'],axis=1) .values\n",
    "y = df.iloc[:, -1].values.reshape(-1,1)\n",
    "y=np.ravel(y)\n",
    "pd.Series(y).value_counts()"
   ],
   "outputs": [
    {
     "data": {
      "text/plain": [
       "0    19480\n",
       "1     8584\n",
       "Name: count, dtype: int64"
      ]
     },
     "execution_count": 275,
     "metadata": {},
     "output_type": "execute_result"
    }
   ],
   "execution_count": 275
  },
  {
   "cell_type": "markdown",
   "metadata": {},
   "source": [
    "### Feature engineering (IG, FCBF, and KPCA)"
   ]
  },
  {
   "cell_type": "markdown",
   "metadata": {},
   "source": [
    "#### Feature selection by information gain (IG)"
   ]
  },
  {
   "cell_type": "code",
   "metadata": {
    "ExecuteTime": {
     "end_time": "2024-08-26T09:29:03.657971Z",
     "start_time": "2024-08-26T09:29:00.365422Z"
    }
   },
   "source": [
    "from sklearn.feature_selection import mutual_info_classif\n",
    "importances = mutual_info_classif(X, y)"
   ],
   "outputs": [],
   "execution_count": 276
  },
  {
   "cell_type": "code",
   "metadata": {
    "ExecuteTime": {
     "end_time": "2024-08-26T09:29:03.660706Z",
     "start_time": "2024-08-26T09:29:03.658803Z"
    }
   },
   "source": [
    "# calculate the sum of importance scores\n",
    "f_list = sorted(zip(map(lambda x: round(x, 4), importances), features), reverse=True)\n",
    "Sum = 0\n",
    "fs = []\n",
    "for i in range(0, len(f_list)):\n",
    "    Sum = Sum + f_list[i][0]\n",
    "    fs.append(f_list[i][1])"
   ],
   "outputs": [],
   "execution_count": 277
  },
  {
   "cell_type": "code",
   "metadata": {
    "ExecuteTime": {
     "end_time": "2024-08-26T09:29:03.663260Z",
     "start_time": "2024-08-26T09:29:03.661329Z"
    }
   },
   "source": [
    "# select the important features from top to bottom until the accumulated importance reaches 90%\n",
    "f_list2 = sorted(zip(map(lambda x: round(x, 4), importances/Sum), features), reverse=True)\n",
    "Sum2 = 0\n",
    "fs = []\n",
    "for i in range(0, len(f_list2)):\n",
    "    Sum2 = Sum2 + f_list2[i][0]\n",
    "    fs.append(f_list2[i][1])\n",
    "    if Sum2>=0.9:\n",
    "        break        "
   ],
   "outputs": [],
   "execution_count": 278
  },
  {
   "cell_type": "code",
   "metadata": {
    "ExecuteTime": {
     "end_time": "2024-08-26T09:29:03.668441Z",
     "start_time": "2024-08-26T09:29:03.663782Z"
    }
   },
   "source": [
    "X_fs = df[fs].values"
   ],
   "outputs": [],
   "execution_count": 279
  },
  {
   "cell_type": "code",
   "metadata": {
    "ExecuteTime": {
     "end_time": "2024-08-26T09:29:03.676778Z",
     "start_time": "2024-08-26T09:29:03.675081Z"
    }
   },
   "source": [
    "X_fs.shape"
   ],
   "outputs": [
    {
     "data": {
      "text/plain": [
       "(28064, 50)"
      ]
     },
     "execution_count": 280,
     "metadata": {},
     "output_type": "execute_result"
    }
   ],
   "execution_count": 280
  },
  {
   "cell_type": "code",
   "metadata": {
    "ExecuteTime": {
     "end_time": "2024-08-26T09:29:03.679101Z",
     "start_time": "2024-08-26T09:29:03.677237Z"
    }
   },
   "source": [
    "X_fs"
   ],
   "outputs": [
    {
     "data": {
      "text/plain": [
       "array([[-0.44367006, -0.36799705, -0.3241843 , ..., -0.12499432,\n",
       "        -0.14943533, -0.10354125],\n",
       "       [-0.44367006, -0.36799705, -0.3241843 , ..., -0.12499432,\n",
       "        -0.14943533, -0.10354125],\n",
       "       [-0.44367006, -0.36799705, -0.32702734, ..., -0.12499432,\n",
       "        -0.14943533, -0.10354125],\n",
       "       ...,\n",
       "       [-0.44367006, -0.36799705, -0.38388814, ..., -0.12499432,\n",
       "        -0.14943533, -0.10354125],\n",
       "       [ 2.50840949, -0.36799705, -0.41042318, ..., -0.12499432,\n",
       "        -0.14943533, -0.10354125],\n",
       "       [-0.44367006, -0.36799705, -0.39603969, ..., -0.12499432,\n",
       "        -0.14943533, -0.10354125]])"
      ]
     },
     "execution_count": 281,
     "metadata": {},
     "output_type": "execute_result"
    }
   ],
   "execution_count": 281
  },
  {
   "cell_type": "markdown",
   "metadata": {},
   "source": [
    "#### Feature selection by Fast Correlation Based Filter (FCBF)\n",
    "\n",
    "The module is imported from the GitHub repo: https://github.com/SantiagoEG/FCBF_module"
   ]
  },
  {
   "cell_type": "code",
   "metadata": {
    "collapsed": true,
    "ExecuteTime": {
     "end_time": "2024-08-26T09:29:03.680914Z",
     "start_time": "2024-08-26T09:29:03.679637Z"
    }
   },
   "source": [
    "fcbf = FCBFK(k = 20)\n",
    "#fcbf.fit(X_fs, y)"
   ],
   "outputs": [],
   "execution_count": 282
  },
  {
   "cell_type": "code",
   "metadata": {
    "ExecuteTime": {
     "end_time": "2024-08-26T09:29:26.501049Z",
     "start_time": "2024-08-26T09:29:03.681409Z"
    }
   },
   "source": [
    "X_fss = fcbf.fit_transform(X_fs,y)"
   ],
   "outputs": [],
   "execution_count": 283
  },
  {
   "cell_type": "code",
   "metadata": {
    "ExecuteTime": {
     "end_time": "2024-08-26T09:29:26.503666Z",
     "start_time": "2024-08-26T09:29:26.501797Z"
    }
   },
   "source": [
    "X_fss.shape"
   ],
   "outputs": [
    {
     "data": {
      "text/plain": [
       "(28064, 20)"
      ]
     },
     "execution_count": 284,
     "metadata": {},
     "output_type": "execute_result"
    }
   ],
   "execution_count": 284
  },
  {
   "cell_type": "code",
   "metadata": {
    "ExecuteTime": {
     "end_time": "2024-08-26T09:29:26.506096Z",
     "start_time": "2024-08-26T09:29:26.504229Z"
    }
   },
   "source": [
    "X_fss"
   ],
   "outputs": [
    {
     "data": {
      "text/plain": [
       "array([[-0.44367006, -0.36799705, -0.5634247 , ..., -0.19434806,\n",
       "        -0.42229572, -0.28110256],\n",
       "       [-0.44367006, -0.36799705, -0.5634247 , ..., -0.19434806,\n",
       "        -0.42229572, -0.28110256],\n",
       "       [-0.44367006, -0.36799705, -0.5634247 , ..., -0.19434806,\n",
       "        -0.42229572, -0.28110256],\n",
       "       ...,\n",
       "       [-0.44367006, -0.36799705, -0.5634247 , ..., -0.19434806,\n",
       "        -0.42229572, -0.28110256],\n",
       "       [ 2.50840949, -0.36799705, -0.49573753, ..., -0.19434806,\n",
       "        -0.42229563, -0.28110222],\n",
       "       [-0.44367006, -0.36799705, -0.5634247 , ..., -0.19434758,\n",
       "        -0.42229559, -0.28110211]])"
      ]
     },
     "execution_count": 285,
     "metadata": {},
     "output_type": "execute_result"
    }
   ],
   "execution_count": 285
  },
  {
   "cell_type": "markdown",
   "metadata": {},
   "source": [
    "####  kernel principal component analysis (KPCA)"
   ]
  },
  {
   "cell_type": "code",
   "metadata": {
    "ExecuteTime": {
     "end_time": "2024-08-26T09:51:08.662406Z",
     "start_time": "2024-08-26T09:29:26.506668Z"
    }
   },
   "source": [
    "from sklearn.decomposition import KernelPCA\n",
    "kpca = KernelPCA(n_components = 10, kernel = 'rbf')\n",
    "kpca.fit(X_fss, y)\n",
    "X_kpca = kpca.transform(X_fss)\n",
    "\n",
    "# from sklearn.decomposition import PCA\n",
    "# kpca = PCA(n_components = 10)\n",
    "# kpca.fit(X_fss, y)\n",
    "# X_kpca = kpca.transform(X_fss)"
   ],
   "outputs": [],
   "execution_count": 286
  },
  {
   "cell_type": "markdown",
   "metadata": {},
   "source": [
    "### Train-test split after feature selection"
   ]
  },
  {
   "cell_type": "code",
   "metadata": {
    "collapsed": true,
    "ExecuteTime": {
     "end_time": "2024-08-26T09:51:08.676859Z",
     "start_time": "2024-08-26T09:51:08.667734Z"
    }
   },
   "source": [
    "X_train = X_kpca[:len(df1)]\n",
    "y_train = y[:len(df1)]\n",
    "X_test = X_kpca[len(df1):]\n",
    "y_test = y[len(df1):]"
   ],
   "outputs": [],
   "execution_count": 287
  },
  {
   "cell_type": "markdown",
   "metadata": {},
   "source": [
    "### Solve class-imbalance by SMOTE"
   ]
  },
  {
   "cell_type": "code",
   "metadata": {
    "ExecuteTime": {
     "end_time": "2024-08-26T09:51:08.695158Z",
     "start_time": "2024-08-26T09:51:08.678683Z"
    }
   },
   "source": [
    "pd.Series(y_train).value_counts()"
   ],
   "outputs": [
    {
     "data": {
      "text/plain": [
       "0    18225\n",
       "1     7305\n",
       "Name: count, dtype: int64"
      ]
     },
     "execution_count": 288,
     "metadata": {},
     "output_type": "execute_result"
    }
   ],
   "execution_count": 288
  },
  {
   "cell_type": "code",
   "metadata": {
    "ExecuteTime": {
     "end_time": "2024-08-26T09:51:08.727288Z",
     "start_time": "2024-08-26T09:51:08.696273Z"
    }
   },
   "source": [
    "from imblearn.over_sampling import SMOTE\n",
    "smote=SMOTE(n_jobs=-1,sampling_strategy={1:18225})\n",
    "X_train, y_train = smote.fit_resample(X_train, y_train)"
   ],
   "outputs": [],
   "execution_count": 289
  },
  {
   "cell_type": "code",
   "metadata": {
    "ExecuteTime": {
     "end_time": "2024-08-26T09:51:08.731959Z",
     "start_time": "2024-08-26T09:51:08.728363Z"
    }
   },
   "source": [
    "pd.Series(y_train).value_counts()"
   ],
   "outputs": [
    {
     "data": {
      "text/plain": [
       "0    18225\n",
       "1    18225\n",
       "Name: count, dtype: int64"
      ]
     },
     "execution_count": 290,
     "metadata": {},
     "output_type": "execute_result"
    }
   ],
   "execution_count": 290
  },
  {
   "cell_type": "code",
   "metadata": {
    "ExecuteTime": {
     "end_time": "2024-08-26T09:51:08.735210Z",
     "start_time": "2024-08-26T09:51:08.732682Z"
    }
   },
   "source": [
    "pd.Series(y_test).value_counts()"
   ],
   "outputs": [
    {
     "data": {
      "text/plain": [
       "1    1279\n",
       "0    1255\n",
       "Name: count, dtype: int64"
      ]
     },
     "execution_count": 291,
     "metadata": {},
     "output_type": "execute_result"
    }
   ],
   "execution_count": 291
  },
  {
   "cell_type": "markdown",
   "metadata": {},
   "source": [
    "### Apply the cluster labeling (CL) k-means method"
   ]
  },
  {
   "cell_type": "code",
   "metadata": {
    "collapsed": true,
    "ExecuteTime": {
     "end_time": "2024-08-26T09:51:08.760240Z",
     "start_time": "2024-08-26T09:51:08.736005Z"
    }
   },
   "source": [
    "from sklearn.cluster import KMeans\n",
    "from sklearn.cluster import DBSCAN,MeanShift\n",
    "from sklearn.cluster import SpectralClustering,AgglomerativeClustering,AffinityPropagation,Birch,MiniBatchKMeans,MeanShift \n",
    "from sklearn.mixture import GaussianMixture, BayesianGaussianMixture\n",
    "from sklearn.metrics import classification_report\n",
    "from sklearn import metrics"
   ],
   "outputs": [],
   "execution_count": 292
  },
  {
   "cell_type": "code",
   "metadata": {
    "collapsed": true,
    "ExecuteTime": {
     "end_time": "2024-08-26T09:51:08.764806Z",
     "start_time": "2024-08-26T09:51:08.760840Z"
    }
   },
   "source": [
    "def CL_kmeans(X_train, X_test, y_train, y_test,n,b=100):\n",
    "    km_cluster = MiniBatchKMeans(n_clusters=n,batch_size=b)\n",
    "    result = km_cluster.fit_predict(X_train)\n",
    "    result2 = km_cluster.predict(X_test)\n",
    "\n",
    "    count=0\n",
    "    a=np.zeros(n)\n",
    "    b=np.zeros(n)\n",
    "    for v in range(0,n):\n",
    "        for i in range(0,len(y_train)):\n",
    "            if result[i]==v:\n",
    "                if y_train[i]==1:\n",
    "                    a[v]=a[v]+1\n",
    "                else:\n",
    "                    b[v]=b[v]+1\n",
    "    list1=[]\n",
    "    list2=[]\n",
    "    for v in range(0,n):\n",
    "        if a[v]<=b[v]:\n",
    "            list1.append(v)\n",
    "        else: \n",
    "            list2.append(v)\n",
    "    for v in range(0,len(y_test)):\n",
    "        if result2[v] in list1:\n",
    "            result2[v]=0\n",
    "        elif result2[v] in list2:\n",
    "            result2[v]=1\n",
    "        else:\n",
    "            print(\"-1\")\n",
    "    print(classification_report(y_test, result2))\n",
    "    cm=confusion_matrix(y_test,result2)\n",
    "    acc=metrics.accuracy_score(y_test,result2)\n",
    "    print(str(acc))\n",
    "    print(cm)"
   ],
   "outputs": [],
   "execution_count": 293
  },
  {
   "cell_type": "code",
   "metadata": {
    "ExecuteTime": {
     "end_time": "2024-08-26T09:51:08.829413Z",
     "start_time": "2024-08-26T09:51:08.765328Z"
    }
   },
   "source": [
    "CL_kmeans(X_train, X_test, y_train, y_test, 8)"
   ],
   "outputs": [
    {
     "name": "stdout",
     "output_type": "stream",
     "text": [
      "              precision    recall  f1-score   support\n",
      "\n",
      "           0       0.61      0.87      0.71      1255\n",
      "           1       0.77      0.45      0.57      1279\n",
      "\n",
      "    accuracy                           0.65      2534\n",
      "   macro avg       0.69      0.66      0.64      2534\n",
      "weighted avg       0.69      0.65      0.64      2534\n",
      "\n",
      "0.6546961325966851\n",
      "[[1086  169]\n",
      " [ 706  573]]\n"
     ]
    }
   ],
   "execution_count": 294
  },
  {
   "cell_type": "markdown",
   "metadata": {},
   "source": [
    "### Hyperparameter optimization of CL-k-means\n",
    "Tune \"k\""
   ]
  },
  {
   "cell_type": "code",
   "metadata": {
    "scrolled": true,
    "ExecuteTime": {
     "end_time": "2024-08-26T09:51:11.624344Z",
     "start_time": "2024-08-26T09:51:08.830411Z"
    }
   },
   "source": [
    "# GP Optimization (BO-GP)\n",
    "from skopt.space import Integer\n",
    "from skopt.utils import use_named_args\n",
    "from skopt import gp_minimize\n",
    "\n",
    "space_gp = [Integer(2, 50, name='n_clusters')]\n",
    "\n",
    "@use_named_args(space_gp)\n",
    "def objective_gp(**params):\n",
    "    km_cluster = MiniBatchKMeans(batch_size=100, **params)\n",
    "    n = params['n_clusters']\n",
    "\n",
    "    result = km_cluster.fit_predict(X_train)\n",
    "    result2 = km_cluster.predict(X_test)\n",
    "\n",
    "    a = np.zeros(n)\n",
    "    b = np.zeros(n)\n",
    "    for v in range(0, n):\n",
    "        for i in range(0, len(y_train)):\n",
    "            if result[i] == v:\n",
    "                if y_train[i] == 1:\n",
    "                    a[v] += 1\n",
    "                else:\n",
    "                    b[v] += 1\n",
    "\n",
    "    list1 = []\n",
    "    list2 = []\n",
    "    for v in range(0, n):\n",
    "        if a[v] <= b[v]:\n",
    "            list1.append(v)\n",
    "        else:\n",
    "            list2.append(v)\n",
    "\n",
    "    for v in range(0, len(y_test)):\n",
    "        if result2[v] in list1:\n",
    "            result2[v] = 0\n",
    "        elif result2[v] in list2:\n",
    "            result2[v] = 1\n",
    "\n",
    "    score = metrics.accuracy_score(y_test, result2)\n",
    "    return (1 - score)\n",
    "\n",
    "res_gp = gp_minimize(objective_gp, space_gp, n_calls=20, random_state=0)\n",
    "gp_best_score = 1 - res_gp.fun\n",
    "gp_best_n_clusters = res_gp.x[0]"
   ],
   "outputs": [],
   "execution_count": 295
  },
  {
   "cell_type": "code",
   "metadata": {
    "ExecuteTime": {
     "end_time": "2024-08-26T09:51:13.582289Z",
     "start_time": "2024-08-26T09:51:11.624989Z"
    }
   },
   "source": [
    "# TPE Optimization (BO-TPE)\n",
    "from hyperopt import hp, fmin, tpe, STATUS_OK\n",
    "\n",
    "space_tpe = {\n",
    "    'n_clusters': hp.quniform('n_clusters', 2, 50, 1),\n",
    "}\n",
    "\n",
    "def objective_tpe(params):\n",
    "    params = {\n",
    "        'n_clusters': int(params['n_clusters']),\n",
    "    }\n",
    "    km_cluster = MiniBatchKMeans(batch_size=100, **params)\n",
    "    n = params['n_clusters']\n",
    "\n",
    "    result = km_cluster.fit_predict(X_train)\n",
    "    result2 = km_cluster.predict(X_test)\n",
    "\n",
    "    a = np.zeros(n)\n",
    "    b = np.zeros(n)\n",
    "    for v in range(0, n):\n",
    "        for i in range(0, len(y_train)):\n",
    "            if result[i] == v:\n",
    "                if y_train[i] == 1:\n",
    "                    a[v] += 1\n",
    "                else:\n",
    "                    b[v] += 1\n",
    "\n",
    "    list1 = []\n",
    "    list2 = []\n",
    "    for v in range(0, n):\n",
    "        if a[v] <= b[v]:\n",
    "            list1.append(v)\n",
    "        else:\n",
    "            list2.append(v)\n",
    "\n",
    "    for v in range(0, len(y_test)):\n",
    "        if result2[v] in list1:\n",
    "            result2[v] = 0\n",
    "        elif result2[v] in list2:\n",
    "            result2[v] = 1\n",
    "\n",
    "    score = metrics.accuracy_score(y_test, result2)\n",
    "    return {'loss': 1 - score, 'status': STATUS_OK }\n",
    "\n",
    "tpe_trials = Trials()\n",
    "tpe_best = fmin(fn=objective_tpe,\n",
    "                space=space_tpe,\n",
    "                algo=tpe.suggest,\n",
    "                max_evals=20,\n",
    "                trials=tpe_trials)\n",
    "tpe_best_score = 1 - min(tpe_trials.losses())\n",
    "tpe_best_n_clusters = int(tpe_best['n_clusters'])"
   ],
   "outputs": [
    {
     "name": "stdout",
     "output_type": "stream",
     "text": [
      "100%|██████████| 20/20 [00:01<00:00, 10.24trial/s, best loss: 0.32320441988950277]\n"
     ]
    }
   ],
   "execution_count": 296
  },
  {
   "cell_type": "code",
   "metadata": {
    "ExecuteTime": {
     "end_time": "2024-08-26T09:51:13.671377Z",
     "start_time": "2024-08-26T09:51:13.583239Z"
    }
   },
   "source": [
    "# 결과 비교 및 최적의 하이퍼파라미터 선택\n",
    "if gp_best_score > tpe_best_score:\n",
    "    final_n_clusters = gp_best_n_clusters\n",
    "    final_method = \"GP\"\n",
    "    final_score = gp_best_score\n",
    "else:\n",
    "    final_n_clusters = tpe_best_n_clusters\n",
    "    final_method = \"TPE\"\n",
    "    final_score = tpe_best_score\n",
    "\n",
    "print(f\"Selected method: {final_method}\")\n",
    "print(f\"Best n_clusters: {final_n_clusters}\")\n",
    "print(f\"Best score: {final_score:.4f}\")\n",
    "\n",
    "CL_kmeans(X_train, X_test, y_train, y_test, final_n_clusters)"
   ],
   "outputs": [
    {
     "name": "stdout",
     "output_type": "stream",
     "text": [
      "Selected method: TPE\n",
      "Best n_clusters: 13\n",
      "Best score: 0.6768\n",
      "              precision    recall  f1-score   support\n",
      "\n",
      "           0       0.49      0.96      0.64      1255\n",
      "           1       0.05      0.00      0.00      1279\n",
      "\n",
      "    accuracy                           0.48      2534\n",
      "   macro avg       0.27      0.48      0.32      2534\n",
      "weighted avg       0.27      0.48      0.32      2534\n",
      "\n",
      "0.4755327545382794\n",
      "[[1202   53]\n",
      " [1276    3]]\n"
     ]
    }
   ],
   "execution_count": 297
  },
  {
   "cell_type": "markdown",
   "metadata": {},
   "source": [
    "### Apply the CL-k-means model with biased classifiers"
   ]
  },
  {
   "cell_type": "code",
   "metadata": {
    "collapsed": true,
    "ExecuteTime": {
     "end_time": "2024-08-26T09:51:13.678591Z",
     "start_time": "2024-08-26T09:51:13.672327Z"
    }
   },
   "source": [
    "# Only a sample code to show the logic. It needs to work on the entire dataset to generate sufficient training samples for biased classifiers\n",
    "def Anomaly_IDS(X_train, X_test, y_train, y_test,n,b=100):\n",
    "    # CL-kmeans\n",
    "    km_cluster = MiniBatchKMeans(n_clusters=n,batch_size=b)\n",
    "    result = km_cluster.fit_predict(X_train)\n",
    "    result2 = km_cluster.predict(X_test)\n",
    "\n",
    "    count=0\n",
    "    a=np.zeros(n)\n",
    "    b=np.zeros(n)\n",
    "    for v in range(0,n):\n",
    "        for i in range(0,len(y_train)):\n",
    "            if result[i]==v:\n",
    "                if y_train[i]==1:\n",
    "                    a[v]=a[v]+1\n",
    "                else:\n",
    "                    b[v]=b[v]+1\n",
    "    list1=[]\n",
    "    list2=[]\n",
    "    for v in range(0,n):\n",
    "        if a[v]<=b[v]:\n",
    "            list1.append(v)\n",
    "        else: \n",
    "            list2.append(v)\n",
    "    for v in range(0,len(y_test)):\n",
    "        if result2[v] in list1:\n",
    "            result2[v]=0\n",
    "        elif result2[v] in list2:\n",
    "            result2[v]=1\n",
    "        else:\n",
    "            print(\"-1\")\n",
    "    print(classification_report(y_test, result2))\n",
    "    cm=confusion_matrix(y_test,result2)\n",
    "    acc=metrics.accuracy_score(y2,result2)\n",
    "    print(str(acc))\n",
    "    print(cm)\n",
    "    \n",
    "    #Biased classifier construction\n",
    "    count=0\n",
    "    print(len(y))\n",
    "    a=np.zeros(n)\n",
    "    b=np.zeros(n)\n",
    "    FNL=[]\n",
    "    FPL=[]\n",
    "    for v in range(0,n):\n",
    "        al=[]\n",
    "        bl=[]\n",
    "        for i in range(0,len(y)):   \n",
    "            if result[i]==v:        \n",
    "                if y[i]==1:        #label 1\n",
    "                    a[v]=a[v]+1\n",
    "                    al.append(i)\n",
    "                else:             #label 0\n",
    "                    b[v]=b[v]+1\n",
    "                    bl.append(i)\n",
    "        if a[v]<=b[v]:\n",
    "            FNL.extend(al)\n",
    "        else:\n",
    "            FPL.extend(bl)\n",
    "        #print(str(v)+\"=\"+str(a[v]/(a[v]+b[v])))\n",
    "        \n",
    "    dffp=df.iloc[FPL, :]\n",
    "    dffn=df.iloc[FNL, :]\n",
    "    dfva0=df[df['Label']==0]\n",
    "    dfva1=df[df['Label']==1]\n",
    "    \n",
    "    dffpp=dfva1.sample(n=None, frac=len(FPL)/dfva1.shape[0], replace=False, weights=None, random_state=None, axis=0)\n",
    "    dffnp=dfva0.sample(n=None, frac=len(FNL)/dfva0.shape[0], replace=False, weights=None, random_state=None, axis=0)\n",
    "    \n",
    "    dffp_f=pd.concat([dffp, dffpp])\n",
    "    dffn_f=pd.concat([dffn, dffnp])\n",
    "    \n",
    "    Xp = dffp_f.drop(['Label'],axis=1)  \n",
    "    yp = dffp_f.iloc[:, -1].values.reshape(-1,1)\n",
    "    yp=np.ravel(yp)\n",
    "\n",
    "    Xn = dffn_f.drop(['Label'],axis=1)  \n",
    "    yn = dffn_f.iloc[:, -1].values.reshape(-1,1)\n",
    "    yn=np.ravel(yn)\n",
    "    \n",
    "    rfp = RandomForestClassifier(random_state = 0)\n",
    "    rfp.fit(Xp,yp)\n",
    "    rfn = RandomForestClassifier(random_state = 0)\n",
    "    rfn.fit(Xn,yn)\n",
    "\n",
    "    dffnn_f=pd.concat([dffn, dffnp])\n",
    "    \n",
    "    Xnn = dffn_f.drop(['Label'],axis=1)  \n",
    "    ynn = dffn_f.iloc[:, -1].values.reshape(-1,1)\n",
    "    ynn=np.ravel(ynn)\n",
    "\n",
    "    rfnn = RandomForestClassifier(random_state = 0)\n",
    "    rfnn.fit(Xnn,ynn)\n",
    "\n",
    "    X2p = df2.drop(['Label'],axis=1) \n",
    "    y2p = df2.iloc[:, -1].values.reshape(-1,1)\n",
    "    y2p=np.ravel(y2p)\n",
    "\n",
    "    result2 = km_cluster.predict(X2p)\n",
    "\n",
    "    count=0\n",
    "    a=np.zeros(n)\n",
    "    b=np.zeros(n)\n",
    "    for v in range(0,n):\n",
    "        for i in range(0,len(y)):\n",
    "            if result[i]==v:\n",
    "                if y[i]==1:\n",
    "                    a[v]=a[v]+1\n",
    "                else:\n",
    "                    b[v]=b[v]+1\n",
    "    list1=[]\n",
    "    list2=[]\n",
    "    l1=[]\n",
    "    l0=[]\n",
    "    for v in range(0,n):\n",
    "        if a[v]<=b[v]:\n",
    "            list1.append(v)\n",
    "        else: \n",
    "            list2.append(v)\n",
    "    for v in range(0,len(y2p)):\n",
    "        if result2[v] in list1:\n",
    "            result2[v]=0\n",
    "            l0.append(v)\n",
    "        elif result2[v] in list2:\n",
    "            result2[v]=1\n",
    "            l1.append(v)\n",
    "        else:\n",
    "            print(\"-1\")\n",
    "    print(classification_report(y2p, result2))\n",
    "    cm=confusion_matrix(y2p,result2)\n",
    "    print(cm)"
   ],
   "outputs": [],
   "execution_count": 298
  },
  {
   "cell_type": "markdown",
   "metadata": {},
   "source": [
    "95% of the code has been shared, and the remaining 5% is retained for future extension.  \n",
    "Thank you for your interest and more details are in the paper."
   ]
  }
 ],
 "metadata": {
  "anaconda-cloud": {},
  "kernelspec": {
   "display_name": "Python 3",
   "language": "python",
   "name": "python3"
  },
  "language_info": {
   "codemirror_mode": {
    "name": "ipython",
    "version": 3
   },
   "file_extension": ".py",
   "mimetype": "text/x-python",
   "name": "python",
   "nbconvert_exporter": "python",
   "pygments_lexer": "ipython3",
   "version": "3.6.8"
  }
 },
 "nbformat": 4,
 "nbformat_minor": 2
}
